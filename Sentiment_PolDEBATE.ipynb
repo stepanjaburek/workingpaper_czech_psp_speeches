{
  "nbformat": 4,
  "nbformat_minor": 0,
  "metadata": {
    "colab": {
      "provenance": [],
      "authorship_tag": "ABX9TyOvkjRlf9J6fNIresWiSlBd",
      "include_colab_link": true
    },
    "kernelspec": {
      "name": "python3",
      "display_name": "Python 3"
    },
    "language_info": {
      "name": "python"
    }
  },
  "cells": [
    {
      "cell_type": "markdown",
      "metadata": {
        "id": "view-in-github",
        "colab_type": "text"
      },
      "source": [
        "<a href=\"https://colab.research.google.com/github/stepanjaburek/workingpaper_czech_psp_speeches/blob/main/Sentiment(PolDEBATE).ipynb\" target=\"_parent\"><img src=\"https://colab.research.google.com/assets/colab-badge.svg\" alt=\"Open In Colab\"/></a>"
      ]
    },
    {
      "cell_type": "code",
      "execution_count": null,
      "metadata": {
        "id": "NfdJmargew5l"
      },
      "outputs": [],
      "source": [
        "import torch\n",
        "from transformers import pipeline\n",
        "import pandas as pd\n",
        "from tqdm.notebook import tqdm"
      ]
    },
    {
      "cell_type": "code",
      "source": [
        "model_name = \"mlburnham/Political_DEBATE_large_v1.0\"\n",
        "hypothesis_template = \"The author of this text has {} sentiment about left-wing politics\n",
        "classes = [\"Negative\", \"Neutral\", \"Positive\"]"
      ],
      "metadata": {
        "id": "HJD6yxz6e0kO"
      },
      "execution_count": null,
      "outputs": []
    },
    {
      "cell_type": "code",
      "source": [
        "device = 0 if torch.cuda.is_available() else -1\n",
        "classifier = pipeline(\"zero-shot-classification\",\n",
        "                     model=model_name,\n",
        "                     device=device)\n",
        "\n",
        "\n",
        "def analyze_sentiments(df, classifier, classes, hypothesis, batch_size=16):\n",
        "    results = []\n",
        "    for i in tqdm(range(0, len(df), batch_size)):\n",
        "        batch_output = classifier(\n",
        "            df['translated_text'][i:i + batch_size].tolist(),\n",
        "            classes,\n",
        "            hypothesis_template=hypothesis,\n",
        "            multi_label=False,\n",
        "            batch_size=batch_size\n",
        "        )\n",
        "\n",
        "        for item in batch_output:\n",
        "            results.append({\n",
        "                'label': item['labels'][0],\n",
        "                'score': item['scores'][0],\n",
        "                **{f'{label}_score': score for label, score in zip(item['labels'], item['scores'])}\n",
        "            })\n",
        "\n",
        "    return pd.DataFrame(results)\n",
        "\n",
        "# Run analysis\n",
        "df = pd.read_csv(\"/content/translated_green.csv\")\n",
        "results = analyze_sentiments(df, classifier, classes, hypothesis_template)\n",
        "\n",
        "# Combine and save\n",
        "pd.concat([df, results], axis=1).to_csv('sentiment_results.csv', index=False)\n",
        "\n",
        "# Show summary\n",
        "print(\"\\nSentiment Distribution:\")\n",
        "print(results['label'].value_counts())"
      ],
      "metadata": {
        "id": "AX6F8Gx9e2UV"
      },
      "execution_count": null,
      "outputs": []
    }
  ]
}
