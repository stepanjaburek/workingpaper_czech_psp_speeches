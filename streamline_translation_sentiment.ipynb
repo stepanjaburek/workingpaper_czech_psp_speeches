{
  "nbformat": 4,
  "nbformat_minor": 0,
  "metadata": {
    "colab": {
      "provenance": [],
      "gpuType": "A100",
      "machine_shape": "hm",
      "authorship_tag": "ABX9TyPHxmt4n3TxOIYfRMiss/6J",
      "include_colab_link": true
    },
    "kernelspec": {
      "name": "python3",
      "display_name": "Python 3"
    },
    "language_info": {
      "name": "python"
    },
    "accelerator": "GPU",
    "widgets": {
      "application/vnd.jupyter.widget-state+json": {
        "ccc17120854a49988c8d27241a77f4e9": {
          "model_module": "@jupyter-widgets/controls",
          "model_name": "HBoxModel",
          "model_module_version": "1.5.0",
          "state": {
            "_dom_classes": [],
            "_model_module": "@jupyter-widgets/controls",
            "_model_module_version": "1.5.0",
            "_model_name": "HBoxModel",
            "_view_count": null,
            "_view_module": "@jupyter-widgets/controls",
            "_view_module_version": "1.5.0",
            "_view_name": "HBoxView",
            "box_style": "",
            "children": [
              "IPY_MODEL_ff771ce513fc48d6b1932675bcbcb5a8",
              "IPY_MODEL_db1a2559a82c4e70ad2e16a063b3241b",
              "IPY_MODEL_6979ff3f49f04c6799b325679d1ffe9c"
            ],
            "layout": "IPY_MODEL_e8904691ed1544e2a5a77692fd151ba9"
          }
        },
        "ff771ce513fc48d6b1932675bcbcb5a8": {
          "model_module": "@jupyter-widgets/controls",
          "model_name": "HTMLModel",
          "model_module_version": "1.5.0",
          "state": {
            "_dom_classes": [],
            "_model_module": "@jupyter-widgets/controls",
            "_model_module_version": "1.5.0",
            "_model_name": "HTMLModel",
            "_view_count": null,
            "_view_module": "@jupyter-widgets/controls",
            "_view_module_version": "1.5.0",
            "_view_name": "HTMLView",
            "description": "",
            "description_tooltip": null,
            "layout": "IPY_MODEL_3db5543bfc654fb8ade0690f5cd35d4d",
            "placeholder": "​",
            "style": "IPY_MODEL_81cc8605030440c48730ed35db728147",
            "value": "100%"
          }
        },
        "db1a2559a82c4e70ad2e16a063b3241b": {
          "model_module": "@jupyter-widgets/controls",
          "model_name": "FloatProgressModel",
          "model_module_version": "1.5.0",
          "state": {
            "_dom_classes": [],
            "_model_module": "@jupyter-widgets/controls",
            "_model_module_version": "1.5.0",
            "_model_name": "FloatProgressModel",
            "_view_count": null,
            "_view_module": "@jupyter-widgets/controls",
            "_view_module_version": "1.5.0",
            "_view_name": "ProgressView",
            "bar_style": "success",
            "description": "",
            "description_tooltip": null,
            "layout": "IPY_MODEL_4426ae3caca244b3b19fa51f8bfb7d26",
            "max": 88,
            "min": 0,
            "orientation": "horizontal",
            "style": "IPY_MODEL_2d552f96bd36406493002897dfda3168",
            "value": 88
          }
        },
        "6979ff3f49f04c6799b325679d1ffe9c": {
          "model_module": "@jupyter-widgets/controls",
          "model_name": "HTMLModel",
          "model_module_version": "1.5.0",
          "state": {
            "_dom_classes": [],
            "_model_module": "@jupyter-widgets/controls",
            "_model_module_version": "1.5.0",
            "_model_name": "HTMLModel",
            "_view_count": null,
            "_view_module": "@jupyter-widgets/controls",
            "_view_module_version": "1.5.0",
            "_view_name": "HTMLView",
            "description": "",
            "description_tooltip": null,
            "layout": "IPY_MODEL_33b6a53f24c741d2ae2a365e873731d9",
            "placeholder": "​",
            "style": "IPY_MODEL_95adf70b5ec34bcc8d3c6259c69a7a71",
            "value": " 88/88 [00:53&lt;00:00,  2.01it/s]"
          }
        },
        "e8904691ed1544e2a5a77692fd151ba9": {
          "model_module": "@jupyter-widgets/base",
          "model_name": "LayoutModel",
          "model_module_version": "1.2.0",
          "state": {
            "_model_module": "@jupyter-widgets/base",
            "_model_module_version": "1.2.0",
            "_model_name": "LayoutModel",
            "_view_count": null,
            "_view_module": "@jupyter-widgets/base",
            "_view_module_version": "1.2.0",
            "_view_name": "LayoutView",
            "align_content": null,
            "align_items": null,
            "align_self": null,
            "border": null,
            "bottom": null,
            "display": null,
            "flex": null,
            "flex_flow": null,
            "grid_area": null,
            "grid_auto_columns": null,
            "grid_auto_flow": null,
            "grid_auto_rows": null,
            "grid_column": null,
            "grid_gap": null,
            "grid_row": null,
            "grid_template_areas": null,
            "grid_template_columns": null,
            "grid_template_rows": null,
            "height": null,
            "justify_content": null,
            "justify_items": null,
            "left": null,
            "margin": null,
            "max_height": null,
            "max_width": null,
            "min_height": null,
            "min_width": null,
            "object_fit": null,
            "object_position": null,
            "order": null,
            "overflow": null,
            "overflow_x": null,
            "overflow_y": null,
            "padding": null,
            "right": null,
            "top": null,
            "visibility": null,
            "width": null
          }
        },
        "3db5543bfc654fb8ade0690f5cd35d4d": {
          "model_module": "@jupyter-widgets/base",
          "model_name": "LayoutModel",
          "model_module_version": "1.2.0",
          "state": {
            "_model_module": "@jupyter-widgets/base",
            "_model_module_version": "1.2.0",
            "_model_name": "LayoutModel",
            "_view_count": null,
            "_view_module": "@jupyter-widgets/base",
            "_view_module_version": "1.2.0",
            "_view_name": "LayoutView",
            "align_content": null,
            "align_items": null,
            "align_self": null,
            "border": null,
            "bottom": null,
            "display": null,
            "flex": null,
            "flex_flow": null,
            "grid_area": null,
            "grid_auto_columns": null,
            "grid_auto_flow": null,
            "grid_auto_rows": null,
            "grid_column": null,
            "grid_gap": null,
            "grid_row": null,
            "grid_template_areas": null,
            "grid_template_columns": null,
            "grid_template_rows": null,
            "height": null,
            "justify_content": null,
            "justify_items": null,
            "left": null,
            "margin": null,
            "max_height": null,
            "max_width": null,
            "min_height": null,
            "min_width": null,
            "object_fit": null,
            "object_position": null,
            "order": null,
            "overflow": null,
            "overflow_x": null,
            "overflow_y": null,
            "padding": null,
            "right": null,
            "top": null,
            "visibility": null,
            "width": null
          }
        },
        "81cc8605030440c48730ed35db728147": {
          "model_module": "@jupyter-widgets/controls",
          "model_name": "DescriptionStyleModel",
          "model_module_version": "1.5.0",
          "state": {
            "_model_module": "@jupyter-widgets/controls",
            "_model_module_version": "1.5.0",
            "_model_name": "DescriptionStyleModel",
            "_view_count": null,
            "_view_module": "@jupyter-widgets/base",
            "_view_module_version": "1.2.0",
            "_view_name": "StyleView",
            "description_width": ""
          }
        },
        "4426ae3caca244b3b19fa51f8bfb7d26": {
          "model_module": "@jupyter-widgets/base",
          "model_name": "LayoutModel",
          "model_module_version": "1.2.0",
          "state": {
            "_model_module": "@jupyter-widgets/base",
            "_model_module_version": "1.2.0",
            "_model_name": "LayoutModel",
            "_view_count": null,
            "_view_module": "@jupyter-widgets/base",
            "_view_module_version": "1.2.0",
            "_view_name": "LayoutView",
            "align_content": null,
            "align_items": null,
            "align_self": null,
            "border": null,
            "bottom": null,
            "display": null,
            "flex": null,
            "flex_flow": null,
            "grid_area": null,
            "grid_auto_columns": null,
            "grid_auto_flow": null,
            "grid_auto_rows": null,
            "grid_column": null,
            "grid_gap": null,
            "grid_row": null,
            "grid_template_areas": null,
            "grid_template_columns": null,
            "grid_template_rows": null,
            "height": null,
            "justify_content": null,
            "justify_items": null,
            "left": null,
            "margin": null,
            "max_height": null,
            "max_width": null,
            "min_height": null,
            "min_width": null,
            "object_fit": null,
            "object_position": null,
            "order": null,
            "overflow": null,
            "overflow_x": null,
            "overflow_y": null,
            "padding": null,
            "right": null,
            "top": null,
            "visibility": null,
            "width": null
          }
        },
        "2d552f96bd36406493002897dfda3168": {
          "model_module": "@jupyter-widgets/controls",
          "model_name": "ProgressStyleModel",
          "model_module_version": "1.5.0",
          "state": {
            "_model_module": "@jupyter-widgets/controls",
            "_model_module_version": "1.5.0",
            "_model_name": "ProgressStyleModel",
            "_view_count": null,
            "_view_module": "@jupyter-widgets/base",
            "_view_module_version": "1.2.0",
            "_view_name": "StyleView",
            "bar_color": null,
            "description_width": ""
          }
        },
        "33b6a53f24c741d2ae2a365e873731d9": {
          "model_module": "@jupyter-widgets/base",
          "model_name": "LayoutModel",
          "model_module_version": "1.2.0",
          "state": {
            "_model_module": "@jupyter-widgets/base",
            "_model_module_version": "1.2.0",
            "_model_name": "LayoutModel",
            "_view_count": null,
            "_view_module": "@jupyter-widgets/base",
            "_view_module_version": "1.2.0",
            "_view_name": "LayoutView",
            "align_content": null,
            "align_items": null,
            "align_self": null,
            "border": null,
            "bottom": null,
            "display": null,
            "flex": null,
            "flex_flow": null,
            "grid_area": null,
            "grid_auto_columns": null,
            "grid_auto_flow": null,
            "grid_auto_rows": null,
            "grid_column": null,
            "grid_gap": null,
            "grid_row": null,
            "grid_template_areas": null,
            "grid_template_columns": null,
            "grid_template_rows": null,
            "height": null,
            "justify_content": null,
            "justify_items": null,
            "left": null,
            "margin": null,
            "max_height": null,
            "max_width": null,
            "min_height": null,
            "min_width": null,
            "object_fit": null,
            "object_position": null,
            "order": null,
            "overflow": null,
            "overflow_x": null,
            "overflow_y": null,
            "padding": null,
            "right": null,
            "top": null,
            "visibility": null,
            "width": null
          }
        },
        "95adf70b5ec34bcc8d3c6259c69a7a71": {
          "model_module": "@jupyter-widgets/controls",
          "model_name": "DescriptionStyleModel",
          "model_module_version": "1.5.0",
          "state": {
            "_model_module": "@jupyter-widgets/controls",
            "_model_module_version": "1.5.0",
            "_model_name": "DescriptionStyleModel",
            "_view_count": null,
            "_view_module": "@jupyter-widgets/base",
            "_view_module_version": "1.2.0",
            "_view_name": "StyleView",
            "description_width": ""
          }
        }
      }
    }
  },
  "cells": [
    {
      "cell_type": "markdown",
      "metadata": {
        "id": "view-in-github",
        "colab_type": "text"
      },
      "source": [
        "<a href=\"https://colab.research.google.com/github/stepanjaburek/workingpaper_czech_psp_speeches/blob/main/streamline_translation_sentiment.ipynb\" target=\"_parent\"><img src=\"https://colab.research.google.com/assets/colab-badge.svg\" alt=\"Open In Colab\"/></a>"
      ]
    },
    {
      "cell_type": "markdown",
      "source": [
        "# **Machine translation using the Opus-MT model from Uni Helsinky**"
      ],
      "metadata": {
        "id": "kHiG4AhyWndV"
      }
    },
    {
      "cell_type": "markdown",
      "source": [
        "# Setup"
      ],
      "metadata": {
        "id": "JXXGM-VKDRX-"
      }
    },
    {
      "cell_type": "code",
      "source": [
        "!pip install transformers sentencepiece sacremoses torch tqdm\n",
        "\n",
        "import pandas as pd\n",
        "from transformers import MarianMTModel, MarianTokenizer\n",
        "from tqdm.notebook import tqdm\n",
        "import torch"
      ],
      "metadata": {
        "id": "MIRGZgtMHqdm"
      },
      "execution_count": null,
      "outputs": []
    },
    {
      "cell_type": "code",
      "source": [
        "def translate_csv(file_path, source_lang='cs', target_lang='en', batch_size=8):\n",
        "    df=pd.read_csv(file_path)\n",
        "    model_name = f'Helsinki-NLP/opus-mt-{source_lang}-{target_lang}'\n",
        "    tokenizer = MarianTokenizer.from_pretrained(model_name)\n",
        "    model = MarianMTModel.from_pretrained(model_name).to('cuda' if torch.cuda.is_available() else 'cpu')\n",
        "\n",
        "    def translate_batch(texts):\n",
        "        inputs = tokenizer(texts, return_tensors=\"pt\", padding=True, truncation=True, max_length=512)\n",
        "        inputs = {k: v.to(model.device) for k, v in inputs.items()}\n",
        "        with torch.no_grad():\n",
        "            return tokenizer.batch_decode(model.generate(**inputs), skip_special_tokens=True)\n",
        "\n",
        "    translations = []\n",
        "    for i in tqdm(range(0, len(df), batch_size)):\n",
        "        translations.extend(translate_batch(df['context_full'][i:i + batch_size].tolist()))\n",
        "\n",
        "    df['translated_context_full'] = translations\n",
        "    return df"
      ],
      "metadata": {
        "id": "aZF8D32XHMGI"
      },
      "execution_count": 14,
      "outputs": []
    },
    {
      "cell_type": "markdown",
      "source": [
        "# Translation left\n"
      ],
      "metadata": {
        "id": "BxE-mSPTDcdd"
      }
    },
    {
      "cell_type": "code",
      "source": [
        "translated_df = translate_csv('/content/left.csv')\n",
        "translated_df.to_csv('left_translated.csv', index=False)"
      ],
      "metadata": {
        "id": "2mX67d7RCz03"
      },
      "execution_count": null,
      "outputs": []
    },
    {
      "cell_type": "markdown",
      "source": [
        "# Translation right"
      ],
      "metadata": {
        "id": "IveynqqlDa5G"
      }
    },
    {
      "cell_type": "code",
      "source": [
        "translated_df = translate_csv('/content/right.csv')\n",
        "translated_df.to_csv('right_translated.csv', index=False)"
      ],
      "metadata": {
        "id": "J3KH76ZZHtK0"
      },
      "execution_count": null,
      "outputs": []
    },
    {
      "cell_type": "markdown",
      "source": [
        "# **Machine translation using the NLLB-200 model from Meta**"
      ],
      "metadata": {
        "id": "KsF7iNwNpWRF"
      }
    },
    {
      "cell_type": "code",
      "source": [
        "import pandas as pd\n",
        "from tqdm import tqdm\n",
        "import torch\n",
        "from transformers import AutoTokenizer, AutoModelForSeq2SeqLM\n"
      ],
      "metadata": {
        "id": "_o2Q92Y3ns-c"
      },
      "execution_count": 2,
      "outputs": []
    },
    {
      "cell_type": "code",
      "source": [
        "def translate_csv_nllb(file_path, source_lang='ces_Latn', target_lang='eng_Latn', batch_size=4, max_length=256):\n",
        "\n",
        "    df = pd.read_csv(file_path)\n",
        "    model_name = 'facebook/nllb-200-distilled-1.3B'\n",
        "    tokenizer = AutoTokenizer.from_pretrained(model_name, src_lang=source_lang)\n",
        "    model = AutoModelForSeq2SeqLM.from_pretrained(model_name).to('cuda' if torch.cuda.is_available() else 'cpu')\n",
        "    target_token_id = tokenizer.convert_tokens_to_ids(target_lang)\n",
        "\n",
        "    def translate_batch(texts):\n",
        "        inputs = tokenizer(texts, return_tensors=\"pt\", padding=True, truncation=True, max_length=max_length).to(model.device)\n",
        "        outputs = model.generate(**inputs, forced_bos_token_id=target_token_id, max_length=max_length)\n",
        "        return tokenizer.batch_decode(outputs, skip_special_tokens=True)\n",
        "\n",
        "    df['translated_context_full'] = [\n",
        "        translation for i in tqdm(range(0, len(df), batch_size))\n",
        "        for translation in translate_batch(df['context_full'][i:i + batch_size].tolist())\n",
        "    ]\n",
        "    return df"
      ],
      "metadata": {
        "id": "NoJF4Icbm_-u"
      },
      "execution_count": 12,
      "outputs": []
    },
    {
      "cell_type": "code",
      "source": [
        "translated_df = translate_csv_nllb('/content/left.csv')\n",
        "translated_df.to_csv('left_translated.csv', index=False)"
      ],
      "metadata": {
        "id": "UeOL0oPdnwCc"
      },
      "execution_count": null,
      "outputs": []
    },
    {
      "cell_type": "code",
      "source": [
        "translated_df = translate_csv_nllb('/content/right.csv')\n",
        "translated_df.to_csv('right_translated.csv', index=False)"
      ],
      "metadata": {
        "id": "yYV48qRApjx6"
      },
      "execution_count": null,
      "outputs": []
    },
    {
      "cell_type": "markdown",
      "source": [
        "# **Sentiment classification using the Political DEBATE model by Burnham et al. (2024)**"
      ],
      "metadata": {
        "id": "sz6bA3z7XJd4"
      }
    },
    {
      "cell_type": "markdown",
      "source": [
        "# Setup"
      ],
      "metadata": {
        "id": "C1MZilgQDh64"
      }
    },
    {
      "cell_type": "code",
      "source": [
        "import torch\n",
        "from transformers import pipeline\n",
        "import pandas as pd\n",
        "from tqdm.notebook import tqdm"
      ],
      "metadata": {
        "id": "Kr110S0KVX4l"
      },
      "execution_count": 7,
      "outputs": []
    },
    {
      "cell_type": "code",
      "source": [
        "def analyze_sentiments(df, classifier, classes, hypothesis, batch_size=16):\n",
        "    results = []\n",
        "    for i in tqdm(range(0, len(df), batch_size)):\n",
        "        batch_output = classifier(\n",
        "            df['translated_context_full'][i:i + batch_size].tolist(),\n",
        "            classes,\n",
        "            hypothesis_template=hypothesis,\n",
        "            multi_label=False,\n",
        "            batch_size=batch_size\n",
        "        )\n",
        "\n",
        "        for item in batch_output:\n",
        "            results.append({\n",
        "                'label': item['labels'][0],\n",
        "                'score': item['scores'][0],\n",
        "                **{f'{label}_score': score for label, score in zip(item['labels'], item['scores'])}\n",
        "            })\n",
        "\n",
        "    return pd.DataFrame(results)\n"
      ],
      "metadata": {
        "id": "oVscgf6_VReW"
      },
      "execution_count": 17,
      "outputs": []
    },
    {
      "cell_type": "markdown",
      "source": [
        "# Model specification and labeling - Left"
      ],
      "metadata": {
        "id": "mRibWWcfDwSH"
      }
    },
    {
      "cell_type": "code",
      "source": [
        "model_name = \"mlburnham/Political_DEBATE_large_v1.0\"\n",
        "hypothesis_template =  \"The emotional valence of this text towards the political left is {}\"\n",
        "classes = [ \"negative\", \"neutral\", \"positive\"]\n",
        "\n",
        "device = 0 if torch.cuda.is_available() else -1\n",
        "classifier = pipeline(\"zero-shot-classification\",\n",
        "                     model=model_name,\n",
        "                     device=device)"
      ],
      "metadata": {
        "id": "pHEjKznqVrP-"
      },
      "execution_count": null,
      "outputs": []
    },
    {
      "cell_type": "code",
      "source": [
        "df = pd.read_csv(\"/content/left_translated.csv\")\n",
        "results = analyze_sentiments(df, classifier, classes, hypothesis_template)\n",
        "\n",
        "pd.concat([df, results], axis=1).to_csv('debate_sentiment_left.csv', index=False)\n",
        "\n",
        "\n",
        "print(\"\\nSentiment Distribution:\")\n",
        "print(results['label'].value_counts())"
      ],
      "metadata": {
        "id": "GNkwb1F1gUBa"
      },
      "execution_count": null,
      "outputs": []
    },
    {
      "cell_type": "markdown",
      "source": [
        "# Model specification and labeling - Right"
      ],
      "metadata": {
        "id": "v3b4QW8cD3UO"
      }
    },
    {
      "cell_type": "code",
      "source": [
        "model_name = \"mlburnham/Political_DEBATE_large_v1.0\"\n",
        "hypothesis_template =  \"The emotional valence of this text towards the political right is {}\"\n",
        "classes = [ \"negative\", \"neutral\", \"positive\"]\n",
        "\n",
        "device = 0 if torch.cuda.is_available() else -1\n",
        "classifier = pipeline(\"zero-shot-classification\",\n",
        "                     model=model_name,\n",
        "                     device=device)"
      ],
      "metadata": {
        "id": "NZrfbfdjDqqO"
      },
      "execution_count": null,
      "outputs": []
    },
    {
      "cell_type": "code",
      "source": [
        "df = pd.read_csv(\"/content/right_translated.csv\")\n",
        "results = analyze_sentiments(df, classifier, classes, hypothesis_template)\n",
        "\n",
        "\n",
        "pd.concat([df, results], axis=1).to_csv('debate_sentiment_right.csv', index=False)\n",
        "\n",
        "\n",
        "print(\"\\nSentiment Distribution:\")\n",
        "print(results['label'].value_counts())"
      ],
      "metadata": {
        "id": "GdSsaBPaAU9u"
      },
      "execution_count": null,
      "outputs": []
    },
    {
      "cell_type": "markdown",
      "source": [
        "# Model specification and labeling - Topic Modeling Left"
      ],
      "metadata": {
        "id": "AugU5mD0if1P"
      }
    },
    {
      "cell_type": "code",
      "source": [
        "model_name = \"mlburnham/Political_DEBATE_large_v1.0\"\n",
        "hypothesis_template = \"This text discusses the political left in terms of {}\"\n",
        "classes = [\"economic issues\",\n",
        "    \"social/cultural issues\",\n",
        "    \"institutional issues\",\n",
        "    \"historical issues\",\n",
        "    \"foreign policy issues\"]\n",
        "\n",
        "device = 0 if torch.cuda.is_available() else -1\n",
        "classifier = pipeline(\"zero-shot-classification\",\n",
        "                     model=model_name,\n",
        "                     device=device)"
      ],
      "metadata": {
        "id": "Vxo3hQA8hwxl"
      },
      "execution_count": null,
      "outputs": []
    },
    {
      "cell_type": "code",
      "source": [
        "df = pd.read_csv(\"/content/left_translated.csv\")\n",
        "results = analyze_sentiments(df, classifier, classes, hypothesis_template)\n",
        "\n",
        "\n",
        "pd.concat([df, results], axis=1).to_csv('debate_topic_left.csv', index=False)\n",
        "\n",
        "\n",
        "print(\"\\nSentiment Distribution:\")\n",
        "print(results['label'].value_counts())"
      ],
      "metadata": {
        "id": "DHZEX4TFh-8Q",
        "outputId": "a51b3a40-d4e8-45d4-82b4-2010a3f4ca8a",
        "colab": {
          "base_uri": "https://localhost:8080/",
          "height": 223,
          "referenced_widgets": [
            "ccc17120854a49988c8d27241a77f4e9",
            "ff771ce513fc48d6b1932675bcbcb5a8",
            "db1a2559a82c4e70ad2e16a063b3241b",
            "6979ff3f49f04c6799b325679d1ffe9c",
            "e8904691ed1544e2a5a77692fd151ba9",
            "3db5543bfc654fb8ade0690f5cd35d4d",
            "81cc8605030440c48730ed35db728147",
            "4426ae3caca244b3b19fa51f8bfb7d26",
            "2d552f96bd36406493002897dfda3168",
            "33b6a53f24c741d2ae2a365e873731d9",
            "95adf70b5ec34bcc8d3c6259c69a7a71"
          ]
        }
      },
      "execution_count": 19,
      "outputs": [
        {
          "output_type": "display_data",
          "data": {
            "text/plain": [
              "  0%|          | 0/88 [00:00<?, ?it/s]"
            ],
            "application/vnd.jupyter.widget-view+json": {
              "version_major": 2,
              "version_minor": 0,
              "model_id": "ccc17120854a49988c8d27241a77f4e9"
            }
          },
          "metadata": {}
        },
        {
          "output_type": "stream",
          "name": "stderr",
          "text": [
            "You seem to be using the pipelines sequentially on GPU. In order to maximize efficiency please use a dataset\n"
          ]
        },
        {
          "output_type": "stream",
          "name": "stdout",
          "text": [
            "\n",
            "Sentiment Distribution:\n",
            "label\n",
            "economic issues           630\n",
            "institutional issues      269\n",
            "historical issues         184\n",
            "social/cultural issues    160\n",
            "foreign policy issues     156\n",
            "Name: count, dtype: int64\n"
          ]
        }
      ]
    }
  ]
}