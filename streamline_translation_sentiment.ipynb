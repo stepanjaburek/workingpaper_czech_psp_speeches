{
  "nbformat": 4,
  "nbformat_minor": 0,
  "metadata": {
    "colab": {
      "provenance": [],
      "gpuType": "T4",
      "authorship_tag": "ABX9TyOlXXqLV56PJdrGi9TY7Iuh",
      "include_colab_link": true
    },
    "kernelspec": {
      "name": "python3",
      "display_name": "Python 3"
    },
    "language_info": {
      "name": "python"
    },
    "accelerator": "GPU"
  },
  "cells": [
    {
      "cell_type": "markdown",
      "metadata": {
        "id": "view-in-github",
        "colab_type": "text"
      },
      "source": [
        "<a href=\"https://colab.research.google.com/github/stepanjaburek/workingpaper_czech_psp_speeches/blob/main/Streamline_Translation_Sentiment.ipynb\" target=\"_parent\"><img src=\"https://colab.research.google.com/assets/colab-badge.svg\" alt=\"Open In Colab\"/></a>"
      ]
    },
    {
      "cell_type": "markdown",
      "source": [
        "# **Machine translation using the Opus-MT model from Uni Helsinky**"
      ],
      "metadata": {
        "id": "kHiG4AhyWndV"
      }
    },
    {
      "cell_type": "markdown",
      "source": [
        "# Setup"
      ],
      "metadata": {
        "id": "JXXGM-VKDRX-"
      }
    },
    {
      "cell_type": "code",
      "source": [
        "!pip install transformers sentencepiece sacremoses torch tqdm\n",
        "\n",
        "import pandas as pd\n",
        "from transformers import MarianMTModel, MarianTokenizer\n",
        "from tqdm.notebook import tqdm\n",
        "import torch"
      ],
      "metadata": {
        "id": "MIRGZgtMHqdm"
      },
      "execution_count": null,
      "outputs": []
    },
    {
      "cell_type": "code",
      "source": [
        "def translate_csv(file_path, source_lang='cs', target_lang='en', batch_size=8):\n",
        "    df=pd.read_csv(file_path)\n",
        "    model_name = f'Helsinki-NLP/opus-mt-{source_lang}-{target_lang}'\n",
        "    tokenizer = MarianTokenizer.from_pretrained(model_name)\n",
        "    model = MarianMTModel.from_pretrained(model_name).to('cuda' if torch.cuda.is_available() else 'cpu')\n",
        "\n",
        "    def translate_batch(texts):\n",
        "        inputs = tokenizer(texts, return_tensors=\"pt\", padding=True, truncation=True, max_length=512)\n",
        "        inputs = {k: v.to(model.device) for k, v in inputs.items()}\n",
        "        with torch.no_grad():\n",
        "            return tokenizer.batch_decode(model.generate(**inputs), skip_special_tokens=True)\n",
        "\n",
        "    translations = []\n",
        "    for i in tqdm(range(0, len(df), batch_size)):\n",
        "        translations.extend(translate_batch(df['context_full'][i:i + batch_size].tolist()))\n",
        "\n",
        "    df['translated_context_full'] = translations\n",
        "    return df"
      ],
      "metadata": {
        "id": "aZF8D32XHMGI"
      },
      "execution_count": null,
      "outputs": []
    },
    {
      "cell_type": "markdown",
      "source": [
        "# Translation left\n"
      ],
      "metadata": {
        "id": "BxE-mSPTDcdd"
      }
    },
    {
      "cell_type": "code",
      "source": [
        "translated_df = translate_csv('/content/left.csv')\n",
        "translated_df.to_csv('left_translated.csv', index=False)"
      ],
      "metadata": {
        "id": "2mX67d7RCz03"
      },
      "execution_count": null,
      "outputs": []
    },
    {
      "cell_type": "markdown",
      "source": [
        "# Translation right"
      ],
      "metadata": {
        "id": "IveynqqlDa5G"
      }
    },
    {
      "cell_type": "code",
      "source": [
        "translated_df = translate_csv('/content/right.csv')\n",
        "translated_df.to_csv('right_translated.csv', index=False)"
      ],
      "metadata": {
        "id": "J3KH76ZZHtK0"
      },
      "execution_count": null,
      "outputs": []
    },
    {
      "cell_type": "markdown",
      "source": [
        "# **Sentiment classification using the Poltical DEBATE model by Burnham et al. (2024)**"
      ],
      "metadata": {
        "id": "sz6bA3z7XJd4"
      }
    },
    {
      "cell_type": "markdown",
      "source": [
        "# Setup"
      ],
      "metadata": {
        "id": "C1MZilgQDh64"
      }
    },
    {
      "cell_type": "code",
      "source": [
        "import torch\n",
        "from transformers import pipeline\n",
        "import pandas as pd\n",
        "from tqdm.notebook import tqdm"
      ],
      "metadata": {
        "id": "Kr110S0KVX4l"
      },
      "execution_count": null,
      "outputs": []
    },
    {
      "cell_type": "code",
      "source": [
        "def analyze_sentiments(df, classifier, classes, hypothesis, batch_size=16):\n",
        "    results = []\n",
        "    for i in tqdm(range(0, len(df), batch_size)):\n",
        "        batch_output = classifier(\n",
        "            df['translated_context_full'][i:i + batch_size].tolist(),\n",
        "            classes,\n",
        "            hypothesis_template=hypothesis,\n",
        "            multi_label=False,\n",
        "            batch_size=batch_size\n",
        "        )\n",
        "\n",
        "        for item in batch_output:\n",
        "            results.append({\n",
        "                'label': item['labels'][0],\n",
        "                'score': item['scores'][0],\n",
        "                **{f'{label}_score': score for label, score in zip(item['labels'], item['scores'])}\n",
        "            })\n",
        "\n",
        "    return pd.DataFrame(results)\n"
      ],
      "metadata": {
        "id": "oVscgf6_VReW"
      },
      "execution_count": null,
      "outputs": []
    },
    {
      "cell_type": "markdown",
      "source": [
        "# Model specification and labeling - Left"
      ],
      "metadata": {
        "id": "mRibWWcfDwSH"
      }
    },
    {
      "cell_type": "code",
      "source": [
        "model_name = \"mlburnham/Political_DEBATE_large_v1.0\"\n",
        "hypothesis_template =  \"The emotional valence of this text towards the political left is {}\"\n",
        "classes = [ \"negative\", \"neutral\", \"positive\"]\n",
        "\n",
        "device = 0 if torch.cuda.is_available() else -1\n",
        "classifier = pipeline(\"zero-shot-classification\",\n",
        "                     model=model_name,\n",
        "                     device=device)"
      ],
      "metadata": {
        "id": "pHEjKznqVrP-"
      },
      "execution_count": null,
      "outputs": []
    },
    {
      "cell_type": "code",
      "source": [
        "df = pd.read_csv(\"/content/left_translated.csv\")\n",
        "results = analyze_sentiments(df, classifier, classes, hypothesis_template)\n",
        "\n",
        "pd.concat([df, results], axis=1).to_csv('debate_sentiment_left.csv', index=False)\n",
        "\n",
        "\n",
        "print(\"\\nSentiment Distribution:\")\n",
        "print(results['label'].value_counts())"
      ],
      "metadata": {
        "id": "GNkwb1F1gUBa"
      },
      "execution_count": null,
      "outputs": []
    },
    {
      "cell_type": "markdown",
      "source": [
        "# Model specification and labeling - Right"
      ],
      "metadata": {
        "id": "v3b4QW8cD3UO"
      }
    },
    {
      "cell_type": "code",
      "source": [
        "model_name = \"mlburnham/Political_DEBATE_large_v1.0\"\n",
        "hypothesis_template =  \"The emotional valence of this text towards the political right is {}\"\n",
        "classes = [ \"negative\", \"neutral\", \"positive\"]\n",
        "\n",
        "device = 0 if torch.cuda.is_available() else -1\n",
        "classifier = pipeline(\"zero-shot-classification\",\n",
        "                     model=model_name,\n",
        "                     device=device)"
      ],
      "metadata": {
        "id": "NZrfbfdjDqqO"
      },
      "execution_count": null,
      "outputs": []
    },
    {
      "cell_type": "code",
      "source": [
        "df = pd.read_csv(\"/content/right_translated.csv\")\n",
        "results = analyze_sentiments(df, classifier, classes, hypothesis_template)\n",
        "\n",
        "\n",
        "pd.concat([df, results], axis=1).to_csv('debate_sentiment_right.csv', index=False)\n",
        "\n",
        "\n",
        "print(\"\\nSentiment Distribution:\")\n",
        "print(results['label'].value_counts())"
      ],
      "metadata": {
        "id": "GdSsaBPaAU9u"
      },
      "execution_count": null,
      "outputs": []
    }
  ]
}
