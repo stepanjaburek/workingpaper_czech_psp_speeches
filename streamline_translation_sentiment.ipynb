{
  "nbformat": 4,
  "nbformat_minor": 0,
  "metadata": {
    "colab": {
      "provenance": [],
      "gpuType": "A100",
      "machine_shape": "hm",
      "authorship_tag": "ABX9TyN0/I7TTAz5lZAYBi7E6kxU",
      "include_colab_link": true
    },
    "kernelspec": {
      "name": "python3",
      "display_name": "Python 3"
    },
    "language_info": {
      "name": "python"
    },
    "accelerator": "GPU",
    "widgets": {
      "application/vnd.jupyter.widget-state+json": {
        "daaa839fffff4624ae6cf43a0cafd20d": {
          "model_module": "@jupyter-widgets/controls",
          "model_name": "HBoxModel",
          "model_module_version": "1.5.0",
          "state": {
            "_dom_classes": [],
            "_model_module": "@jupyter-widgets/controls",
            "_model_module_version": "1.5.0",
            "_model_name": "HBoxModel",
            "_view_count": null,
            "_view_module": "@jupyter-widgets/controls",
            "_view_module_version": "1.5.0",
            "_view_name": "HBoxView",
            "box_style": "",
            "children": [
              "IPY_MODEL_4219de9a23cd451099c55d621f1fc323",
              "IPY_MODEL_b05e72ab72074d0697c185d17c3e0040",
              "IPY_MODEL_61aa53e5951f490e9f8120999fd8c69f"
            ],
            "layout": "IPY_MODEL_e03526fd174d4e80b4ab58aa3af54e4a"
          }
        },
        "4219de9a23cd451099c55d621f1fc323": {
          "model_module": "@jupyter-widgets/controls",
          "model_name": "HTMLModel",
          "model_module_version": "1.5.0",
          "state": {
            "_dom_classes": [],
            "_model_module": "@jupyter-widgets/controls",
            "_model_module_version": "1.5.0",
            "_model_name": "HTMLModel",
            "_view_count": null,
            "_view_module": "@jupyter-widgets/controls",
            "_view_module_version": "1.5.0",
            "_view_name": "HTMLView",
            "description": "",
            "description_tooltip": null,
            "layout": "IPY_MODEL_5b772aaae0d14fe99dc37fd6c1d5be86",
            "placeholder": "​",
            "style": "IPY_MODEL_b80e52c5d8df45a29b9a15026e3ac2fa",
            "value": "Loading checkpoint shards: 100%"
          }
        },
        "b05e72ab72074d0697c185d17c3e0040": {
          "model_module": "@jupyter-widgets/controls",
          "model_name": "FloatProgressModel",
          "model_module_version": "1.5.0",
          "state": {
            "_dom_classes": [],
            "_model_module": "@jupyter-widgets/controls",
            "_model_module_version": "1.5.0",
            "_model_name": "FloatProgressModel",
            "_view_count": null,
            "_view_module": "@jupyter-widgets/controls",
            "_view_module_version": "1.5.0",
            "_view_name": "ProgressView",
            "bar_style": "success",
            "description": "",
            "description_tooltip": null,
            "layout": "IPY_MODEL_167cad393d084ff098f4c75ca9143820",
            "max": 3,
            "min": 0,
            "orientation": "horizontal",
            "style": "IPY_MODEL_27313249bb9e49d691475e516ff9a965",
            "value": 3
          }
        },
        "61aa53e5951f490e9f8120999fd8c69f": {
          "model_module": "@jupyter-widgets/controls",
          "model_name": "HTMLModel",
          "model_module_version": "1.5.0",
          "state": {
            "_dom_classes": [],
            "_model_module": "@jupyter-widgets/controls",
            "_model_module_version": "1.5.0",
            "_model_name": "HTMLModel",
            "_view_count": null,
            "_view_module": "@jupyter-widgets/controls",
            "_view_module_version": "1.5.0",
            "_view_name": "HTMLView",
            "description": "",
            "description_tooltip": null,
            "layout": "IPY_MODEL_feb980ee45f949188974eb13a55f9f73",
            "placeholder": "​",
            "style": "IPY_MODEL_d4535df7b23a41e08407dba0feabe06f",
            "value": " 3/3 [00:01&lt;00:00,  2.07it/s]"
          }
        },
        "e03526fd174d4e80b4ab58aa3af54e4a": {
          "model_module": "@jupyter-widgets/base",
          "model_name": "LayoutModel",
          "model_module_version": "1.2.0",
          "state": {
            "_model_module": "@jupyter-widgets/base",
            "_model_module_version": "1.2.0",
            "_model_name": "LayoutModel",
            "_view_count": null,
            "_view_module": "@jupyter-widgets/base",
            "_view_module_version": "1.2.0",
            "_view_name": "LayoutView",
            "align_content": null,
            "align_items": null,
            "align_self": null,
            "border": null,
            "bottom": null,
            "display": null,
            "flex": null,
            "flex_flow": null,
            "grid_area": null,
            "grid_auto_columns": null,
            "grid_auto_flow": null,
            "grid_auto_rows": null,
            "grid_column": null,
            "grid_gap": null,
            "grid_row": null,
            "grid_template_areas": null,
            "grid_template_columns": null,
            "grid_template_rows": null,
            "height": null,
            "justify_content": null,
            "justify_items": null,
            "left": null,
            "margin": null,
            "max_height": null,
            "max_width": null,
            "min_height": null,
            "min_width": null,
            "object_fit": null,
            "object_position": null,
            "order": null,
            "overflow": null,
            "overflow_x": null,
            "overflow_y": null,
            "padding": null,
            "right": null,
            "top": null,
            "visibility": null,
            "width": null
          }
        },
        "5b772aaae0d14fe99dc37fd6c1d5be86": {
          "model_module": "@jupyter-widgets/base",
          "model_name": "LayoutModel",
          "model_module_version": "1.2.0",
          "state": {
            "_model_module": "@jupyter-widgets/base",
            "_model_module_version": "1.2.0",
            "_model_name": "LayoutModel",
            "_view_count": null,
            "_view_module": "@jupyter-widgets/base",
            "_view_module_version": "1.2.0",
            "_view_name": "LayoutView",
            "align_content": null,
            "align_items": null,
            "align_self": null,
            "border": null,
            "bottom": null,
            "display": null,
            "flex": null,
            "flex_flow": null,
            "grid_area": null,
            "grid_auto_columns": null,
            "grid_auto_flow": null,
            "grid_auto_rows": null,
            "grid_column": null,
            "grid_gap": null,
            "grid_row": null,
            "grid_template_areas": null,
            "grid_template_columns": null,
            "grid_template_rows": null,
            "height": null,
            "justify_content": null,
            "justify_items": null,
            "left": null,
            "margin": null,
            "max_height": null,
            "max_width": null,
            "min_height": null,
            "min_width": null,
            "object_fit": null,
            "object_position": null,
            "order": null,
            "overflow": null,
            "overflow_x": null,
            "overflow_y": null,
            "padding": null,
            "right": null,
            "top": null,
            "visibility": null,
            "width": null
          }
        },
        "b80e52c5d8df45a29b9a15026e3ac2fa": {
          "model_module": "@jupyter-widgets/controls",
          "model_name": "DescriptionStyleModel",
          "model_module_version": "1.5.0",
          "state": {
            "_model_module": "@jupyter-widgets/controls",
            "_model_module_version": "1.5.0",
            "_model_name": "DescriptionStyleModel",
            "_view_count": null,
            "_view_module": "@jupyter-widgets/base",
            "_view_module_version": "1.2.0",
            "_view_name": "StyleView",
            "description_width": ""
          }
        },
        "167cad393d084ff098f4c75ca9143820": {
          "model_module": "@jupyter-widgets/base",
          "model_name": "LayoutModel",
          "model_module_version": "1.2.0",
          "state": {
            "_model_module": "@jupyter-widgets/base",
            "_model_module_version": "1.2.0",
            "_model_name": "LayoutModel",
            "_view_count": null,
            "_view_module": "@jupyter-widgets/base",
            "_view_module_version": "1.2.0",
            "_view_name": "LayoutView",
            "align_content": null,
            "align_items": null,
            "align_self": null,
            "border": null,
            "bottom": null,
            "display": null,
            "flex": null,
            "flex_flow": null,
            "grid_area": null,
            "grid_auto_columns": null,
            "grid_auto_flow": null,
            "grid_auto_rows": null,
            "grid_column": null,
            "grid_gap": null,
            "grid_row": null,
            "grid_template_areas": null,
            "grid_template_columns": null,
            "grid_template_rows": null,
            "height": null,
            "justify_content": null,
            "justify_items": null,
            "left": null,
            "margin": null,
            "max_height": null,
            "max_width": null,
            "min_height": null,
            "min_width": null,
            "object_fit": null,
            "object_position": null,
            "order": null,
            "overflow": null,
            "overflow_x": null,
            "overflow_y": null,
            "padding": null,
            "right": null,
            "top": null,
            "visibility": null,
            "width": null
          }
        },
        "27313249bb9e49d691475e516ff9a965": {
          "model_module": "@jupyter-widgets/controls",
          "model_name": "ProgressStyleModel",
          "model_module_version": "1.5.0",
          "state": {
            "_model_module": "@jupyter-widgets/controls",
            "_model_module_version": "1.5.0",
            "_model_name": "ProgressStyleModel",
            "_view_count": null,
            "_view_module": "@jupyter-widgets/base",
            "_view_module_version": "1.2.0",
            "_view_name": "StyleView",
            "bar_color": null,
            "description_width": ""
          }
        },
        "feb980ee45f949188974eb13a55f9f73": {
          "model_module": "@jupyter-widgets/base",
          "model_name": "LayoutModel",
          "model_module_version": "1.2.0",
          "state": {
            "_model_module": "@jupyter-widgets/base",
            "_model_module_version": "1.2.0",
            "_model_name": "LayoutModel",
            "_view_count": null,
            "_view_module": "@jupyter-widgets/base",
            "_view_module_version": "1.2.0",
            "_view_name": "LayoutView",
            "align_content": null,
            "align_items": null,
            "align_self": null,
            "border": null,
            "bottom": null,
            "display": null,
            "flex": null,
            "flex_flow": null,
            "grid_area": null,
            "grid_auto_columns": null,
            "grid_auto_flow": null,
            "grid_auto_rows": null,
            "grid_column": null,
            "grid_gap": null,
            "grid_row": null,
            "grid_template_areas": null,
            "grid_template_columns": null,
            "grid_template_rows": null,
            "height": null,
            "justify_content": null,
            "justify_items": null,
            "left": null,
            "margin": null,
            "max_height": null,
            "max_width": null,
            "min_height": null,
            "min_width": null,
            "object_fit": null,
            "object_position": null,
            "order": null,
            "overflow": null,
            "overflow_x": null,
            "overflow_y": null,
            "padding": null,
            "right": null,
            "top": null,
            "visibility": null,
            "width": null
          }
        },
        "d4535df7b23a41e08407dba0feabe06f": {
          "model_module": "@jupyter-widgets/controls",
          "model_name": "DescriptionStyleModel",
          "model_module_version": "1.5.0",
          "state": {
            "_model_module": "@jupyter-widgets/controls",
            "_model_module_version": "1.5.0",
            "_model_name": "DescriptionStyleModel",
            "_view_count": null,
            "_view_module": "@jupyter-widgets/base",
            "_view_module_version": "1.2.0",
            "_view_name": "StyleView",
            "description_width": ""
          }
        }
      }
    }
  },
  "cells": [
    {
      "cell_type": "markdown",
      "metadata": {
        "id": "view-in-github",
        "colab_type": "text"
      },
      "source": [
        "<a href=\"https://colab.research.google.com/github/stepanjaburek/workingpaper_czech_psp_speeches/blob/main/streamline_translation_sentiment.ipynb\" target=\"_parent\"><img src=\"https://colab.research.google.com/assets/colab-badge.svg\" alt=\"Open In Colab\"/></a>"
      ]
    },
    {
      "cell_type": "markdown",
      "source": [
        "# **Machine translation using the Opus-MT model from Uni Helsinky**"
      ],
      "metadata": {
        "id": "kHiG4AhyWndV"
      }
    },
    {
      "cell_type": "markdown",
      "source": [
        "# Setup"
      ],
      "metadata": {
        "id": "JXXGM-VKDRX-"
      }
    },
    {
      "cell_type": "code",
      "source": [
        "!pip install transformers sentencepiece sacremoses torch tqdm\n",
        "\n",
        "import pandas as pd\n",
        "from transformers import MarianMTModel, MarianTokenizer\n",
        "from tqdm.notebook import tqdm\n",
        "import torch"
      ],
      "metadata": {
        "id": "MIRGZgtMHqdm"
      },
      "execution_count": null,
      "outputs": []
    },
    {
      "cell_type": "code",
      "source": [
        "def translate_csv(file_path, source_lang='cs', target_lang='en', batch_size=8):\n",
        "    df=pd.read_csv(file_path)\n",
        "    model_name = f'Helsinki-NLP/opus-mt-{source_lang}-{target_lang}'\n",
        "    tokenizer = MarianTokenizer.from_pretrained(model_name)\n",
        "    model = MarianMTModel.from_pretrained(model_name).to('cuda' if torch.cuda.is_available() else 'cpu')\n",
        "\n",
        "    def translate_batch(texts):\n",
        "        inputs = tokenizer(texts, return_tensors=\"pt\", padding=True, truncation=True, max_length=512)\n",
        "        inputs = {k: v.to(model.device) for k, v in inputs.items()}\n",
        "        with torch.no_grad():\n",
        "            return tokenizer.batch_decode(model.generate(**inputs), skip_special_tokens=True)\n",
        "\n",
        "    translations = []\n",
        "    for i in tqdm(range(0, len(df), batch_size)):\n",
        "        translations.extend(translate_batch(df['context_full'][i:i + batch_size].tolist()))\n",
        "\n",
        "    df['translated_context_full'] = translations\n",
        "    return df"
      ],
      "metadata": {
        "id": "aZF8D32XHMGI"
      },
      "execution_count": 2,
      "outputs": []
    },
    {
      "cell_type": "markdown",
      "source": [
        "# Translation left\n"
      ],
      "metadata": {
        "id": "BxE-mSPTDcdd"
      }
    },
    {
      "cell_type": "code",
      "source": [
        "translated_df = translate_csv('/content/left.csv')\n",
        "translated_df.to_csv('left_translated.csv', index=False)"
      ],
      "metadata": {
        "id": "2mX67d7RCz03"
      },
      "execution_count": null,
      "outputs": []
    },
    {
      "cell_type": "markdown",
      "source": [
        "# Translation right"
      ],
      "metadata": {
        "id": "IveynqqlDa5G"
      }
    },
    {
      "cell_type": "code",
      "source": [
        "translated_df = translate_csv('/content/right.csv')\n",
        "translated_df.to_csv('right_translated.csv', index=False)"
      ],
      "metadata": {
        "id": "J3KH76ZZHtK0"
      },
      "execution_count": null,
      "outputs": []
    },
    {
      "cell_type": "markdown",
      "source": [
        "# **Machine translation using the NLLB-200 model from Meta**"
      ],
      "metadata": {
        "id": "KsF7iNwNpWRF"
      }
    },
    {
      "cell_type": "code",
      "source": [
        "import pandas as pd\n",
        "from tqdm import tqdm\n",
        "import torch\n",
        "from transformers import AutoTokenizer, AutoModelForSeq2SeqLM\n"
      ],
      "metadata": {
        "id": "_o2Q92Y3ns-c"
      },
      "execution_count": null,
      "outputs": []
    },
    {
      "cell_type": "code",
      "source": [
        "def translate_csv_nllb(file_path, source_lang='ces_Latn', target_lang='eng_Latn', batch_size=4, max_length=256):\n",
        "\n",
        "    df = pd.read_csv(file_path)\n",
        "    model_name = 'facebook/nllb-200-3.3B'\n",
        "    tokenizer = AutoTokenizer.from_pretrained(model_name, src_lang=source_lang)\n",
        "    model = AutoModelForSeq2SeqLM.from_pretrained(model_name).to('cuda' if torch.cuda.is_available() else 'cpu')\n",
        "    target_token_id = tokenizer.convert_tokens_to_ids(target_lang)\n",
        "\n",
        "    def translate_batch(texts):\n",
        "        inputs = tokenizer(texts, return_tensors=\"pt\", padding=True, truncation=True, max_length=max_length).to(model.device)\n",
        "        outputs = model.generate(**inputs, forced_bos_token_id=target_token_id, max_length=max_length)\n",
        "        return tokenizer.batch_decode(outputs, skip_special_tokens=True)\n",
        "\n",
        "    df['translated_context_full'] = [\n",
        "        translation for i in tqdm(range(0, len(df), batch_size))\n",
        "        for translation in translate_batch(df['context_full'][i:i + batch_size].tolist())\n",
        "    ]\n",
        "    return df"
      ],
      "metadata": {
        "id": "NoJF4Icbm_-u"
      },
      "execution_count": 25,
      "outputs": []
    },
    {
      "cell_type": "code",
      "source": [
        "translated_df = translate_csv_nllb('/content/left.csv')\n",
        "translated_df.to_csv('left_translated.csv', index=False)"
      ],
      "metadata": {
        "colab": {
          "base_uri": "https://localhost:8080/",
          "height": 66,
          "referenced_widgets": [
            "daaa839fffff4624ae6cf43a0cafd20d",
            "4219de9a23cd451099c55d621f1fc323",
            "b05e72ab72074d0697c185d17c3e0040",
            "61aa53e5951f490e9f8120999fd8c69f",
            "e03526fd174d4e80b4ab58aa3af54e4a",
            "5b772aaae0d14fe99dc37fd6c1d5be86",
            "b80e52c5d8df45a29b9a15026e3ac2fa",
            "167cad393d084ff098f4c75ca9143820",
            "27313249bb9e49d691475e516ff9a965",
            "feb980ee45f949188974eb13a55f9f73",
            "d4535df7b23a41e08407dba0feabe06f"
          ]
        },
        "id": "UeOL0oPdnwCc",
        "outputId": "8dcd18a7-8417-4194-d52d-810a44f3d311"
      },
      "execution_count": 26,
      "outputs": [
        {
          "output_type": "display_data",
          "data": {
            "text/plain": [
              "Loading checkpoint shards:   0%|          | 0/3 [00:00<?, ?it/s]"
            ],
            "application/vnd.jupyter.widget-view+json": {
              "version_major": 2,
              "version_minor": 0,
              "model_id": "daaa839fffff4624ae6cf43a0cafd20d"
            }
          },
          "metadata": {}
        },
        {
          "output_type": "stream",
          "name": "stderr",
          "text": [
            "100%|██████████| 38/38 [01:03<00:00,  1.67s/it]\n"
          ]
        }
      ]
    },
    {
      "cell_type": "code",
      "source": [
        "translated_df = translate_csv('/content/right.csv')\n",
        "translated_df.to_csv('right_translated.csv', index=False)"
      ],
      "metadata": {
        "id": "yYV48qRApjx6"
      },
      "execution_count": null,
      "outputs": []
    },
    {
      "cell_type": "markdown",
      "source": [
        "# **Sentiment classification using the Political DEBATE model by Burnham et al. (2024)**"
      ],
      "metadata": {
        "id": "sz6bA3z7XJd4"
      }
    },
    {
      "cell_type": "markdown",
      "source": [
        "# Setup"
      ],
      "metadata": {
        "id": "C1MZilgQDh64"
      }
    },
    {
      "cell_type": "code",
      "source": [
        "import torch\n",
        "from transformers import pipeline\n",
        "import pandas as pd\n",
        "from tqdm.notebook import tqdm"
      ],
      "metadata": {
        "id": "Kr110S0KVX4l"
      },
      "execution_count": null,
      "outputs": []
    },
    {
      "cell_type": "code",
      "source": [
        "def analyze_sentiments(df, classifier, classes, hypothesis, batch_size=16):\n",
        "    results = []\n",
        "    for i in tqdm(range(0, len(df), batch_size)):\n",
        "        batch_output = classifier(\n",
        "            df['translated_context_full'][i:i + batch_size].tolist(),\n",
        "            classes,\n",
        "            hypothesis_template=hypothesis,\n",
        "            multi_label=False,\n",
        "            batch_size=batch_size\n",
        "        )\n",
        "\n",
        "        for item in batch_output:\n",
        "            results.append({\n",
        "                'label': item['labels'][0],\n",
        "                'score': item['scores'][0],\n",
        "                **{f'{label}_score': score for label, score in zip(item['labels'], item['scores'])}\n",
        "            })\n",
        "\n",
        "    return pd.DataFrame(results)\n"
      ],
      "metadata": {
        "id": "oVscgf6_VReW"
      },
      "execution_count": null,
      "outputs": []
    },
    {
      "cell_type": "markdown",
      "source": [
        "# Model specification and labeling - Left"
      ],
      "metadata": {
        "id": "mRibWWcfDwSH"
      }
    },
    {
      "cell_type": "code",
      "source": [
        "model_name = \"mlburnham/Political_DEBATE_large_v1.0\"\n",
        "hypothesis_template =  \"The emotional valence of this text towards the political left is {}\"\n",
        "classes = [ \"negative\", \"neutral\", \"positive\"]\n",
        "\n",
        "device = 0 if torch.cuda.is_available() else -1\n",
        "classifier = pipeline(\"zero-shot-classification\",\n",
        "                     model=model_name,\n",
        "                     device=device)"
      ],
      "metadata": {
        "id": "pHEjKznqVrP-"
      },
      "execution_count": null,
      "outputs": []
    },
    {
      "cell_type": "code",
      "source": [
        "df = pd.read_csv(\"/content/left_translated.csv\")\n",
        "results = analyze_sentiments(df, classifier, classes, hypothesis_template)\n",
        "\n",
        "pd.concat([df, results], axis=1).to_csv('debate_sentiment_left.csv', index=False)\n",
        "\n",
        "\n",
        "print(\"\\nSentiment Distribution:\")\n",
        "print(results['label'].value_counts())"
      ],
      "metadata": {
        "id": "GNkwb1F1gUBa"
      },
      "execution_count": null,
      "outputs": []
    },
    {
      "cell_type": "markdown",
      "source": [
        "# Model specification and labeling - Right"
      ],
      "metadata": {
        "id": "v3b4QW8cD3UO"
      }
    },
    {
      "cell_type": "code",
      "source": [
        "model_name = \"mlburnham/Political_DEBATE_large_v1.0\"\n",
        "hypothesis_template =  \"The emotional valence of this text towards the political right is {}\"\n",
        "classes = [ \"negative\", \"neutral\", \"positive\"]\n",
        "\n",
        "device = 0 if torch.cuda.is_available() else -1\n",
        "classifier = pipeline(\"zero-shot-classification\",\n",
        "                     model=model_name,\n",
        "                     device=device)"
      ],
      "metadata": {
        "id": "NZrfbfdjDqqO"
      },
      "execution_count": null,
      "outputs": []
    },
    {
      "cell_type": "code",
      "source": [
        "df = pd.read_csv(\"/content/right_translated.csv\")\n",
        "results = analyze_sentiments(df, classifier, classes, hypothesis_template)\n",
        "\n",
        "\n",
        "pd.concat([df, results], axis=1).to_csv('debate_sentiment_right.csv', index=False)\n",
        "\n",
        "\n",
        "print(\"\\nSentiment Distribution:\")\n",
        "print(results['label'].value_counts())"
      ],
      "metadata": {
        "id": "GdSsaBPaAU9u"
      },
      "execution_count": null,
      "outputs": []
    }
  ]
}