{
  "nbformat": 4,
  "nbformat_minor": 0,
  "metadata": {
    "colab": {
      "provenance": [],
      "machine_shape": "hm",
      "gpuType": "A100",
      "authorship_tag": "ABX9TyNQ6jrWsva/+8CrwKcPFSF6",
      "include_colab_link": true
    },
    "kernelspec": {
      "name": "python3",
      "display_name": "Python 3"
    },
    "language_info": {
      "name": "python"
    },
    "accelerator": "GPU",
    "widgets": {
      "application/vnd.jupyter.widget-state+json": {
        "8e0c9398457f41e8b4e56796515df8c2": {
          "model_module": "@jupyter-widgets/controls",
          "model_name": "HBoxModel",
          "model_module_version": "1.5.0",
          "state": {
            "_dom_classes": [],
            "_model_module": "@jupyter-widgets/controls",
            "_model_module_version": "1.5.0",
            "_model_name": "HBoxModel",
            "_view_count": null,
            "_view_module": "@jupyter-widgets/controls",
            "_view_module_version": "1.5.0",
            "_view_name": "HBoxView",
            "box_style": "",
            "children": [
              "IPY_MODEL_ffc9c8363f804febaecb34ea3938f0a6",
              "IPY_MODEL_b921270a3eaf4f08a6b021b53893ca65",
              "IPY_MODEL_7d82a34c5df14a6898e210001233d180"
            ],
            "layout": "IPY_MODEL_1b56096671ba4434be70a5594331a1c2"
          }
        },
        "ffc9c8363f804febaecb34ea3938f0a6": {
          "model_module": "@jupyter-widgets/controls",
          "model_name": "HTMLModel",
          "model_module_version": "1.5.0",
          "state": {
            "_dom_classes": [],
            "_model_module": "@jupyter-widgets/controls",
            "_model_module_version": "1.5.0",
            "_model_name": "HTMLModel",
            "_view_count": null,
            "_view_module": "@jupyter-widgets/controls",
            "_view_module_version": "1.5.0",
            "_view_name": "HTMLView",
            "description": "",
            "description_tooltip": null,
            "layout": "IPY_MODEL_3951d0d7714a43418789f7a283eaec08",
            "placeholder": "​",
            "style": "IPY_MODEL_5d4120185fac49e6b84a188aef015ae3",
            "value": "Downloading https://raw.githubusercontent.com/stanfordnlp/stanza-resources/main/resources_1.10.0.json: "
          }
        },
        "b921270a3eaf4f08a6b021b53893ca65": {
          "model_module": "@jupyter-widgets/controls",
          "model_name": "FloatProgressModel",
          "model_module_version": "1.5.0",
          "state": {
            "_dom_classes": [],
            "_model_module": "@jupyter-widgets/controls",
            "_model_module_version": "1.5.0",
            "_model_name": "FloatProgressModel",
            "_view_count": null,
            "_view_module": "@jupyter-widgets/controls",
            "_view_module_version": "1.5.0",
            "_view_name": "ProgressView",
            "bar_style": "success",
            "description": "",
            "description_tooltip": null,
            "layout": "IPY_MODEL_334c096bcaac481fb67deef475b71e0c",
            "max": 52559,
            "min": 0,
            "orientation": "horizontal",
            "style": "IPY_MODEL_fb50208f778d46beac785db8125516fc",
            "value": 52559
          }
        },
        "7d82a34c5df14a6898e210001233d180": {
          "model_module": "@jupyter-widgets/controls",
          "model_name": "HTMLModel",
          "model_module_version": "1.5.0",
          "state": {
            "_dom_classes": [],
            "_model_module": "@jupyter-widgets/controls",
            "_model_module_version": "1.5.0",
            "_model_name": "HTMLModel",
            "_view_count": null,
            "_view_module": "@jupyter-widgets/controls",
            "_view_module_version": "1.5.0",
            "_view_name": "HTMLView",
            "description": "",
            "description_tooltip": null,
            "layout": "IPY_MODEL_b783f0af783548fea19725b02f071041",
            "placeholder": "​",
            "style": "IPY_MODEL_a68226324e0b4278a33cc2fba00441e1",
            "value": " 424k/? [00:00&lt;00:00, 32.4MB/s]"
          }
        },
        "1b56096671ba4434be70a5594331a1c2": {
          "model_module": "@jupyter-widgets/base",
          "model_name": "LayoutModel",
          "model_module_version": "1.2.0",
          "state": {
            "_model_module": "@jupyter-widgets/base",
            "_model_module_version": "1.2.0",
            "_model_name": "LayoutModel",
            "_view_count": null,
            "_view_module": "@jupyter-widgets/base",
            "_view_module_version": "1.2.0",
            "_view_name": "LayoutView",
            "align_content": null,
            "align_items": null,
            "align_self": null,
            "border": null,
            "bottom": null,
            "display": null,
            "flex": null,
            "flex_flow": null,
            "grid_area": null,
            "grid_auto_columns": null,
            "grid_auto_flow": null,
            "grid_auto_rows": null,
            "grid_column": null,
            "grid_gap": null,
            "grid_row": null,
            "grid_template_areas": null,
            "grid_template_columns": null,
            "grid_template_rows": null,
            "height": null,
            "justify_content": null,
            "justify_items": null,
            "left": null,
            "margin": null,
            "max_height": null,
            "max_width": null,
            "min_height": null,
            "min_width": null,
            "object_fit": null,
            "object_position": null,
            "order": null,
            "overflow": null,
            "overflow_x": null,
            "overflow_y": null,
            "padding": null,
            "right": null,
            "top": null,
            "visibility": null,
            "width": null
          }
        },
        "3951d0d7714a43418789f7a283eaec08": {
          "model_module": "@jupyter-widgets/base",
          "model_name": "LayoutModel",
          "model_module_version": "1.2.0",
          "state": {
            "_model_module": "@jupyter-widgets/base",
            "_model_module_version": "1.2.0",
            "_model_name": "LayoutModel",
            "_view_count": null,
            "_view_module": "@jupyter-widgets/base",
            "_view_module_version": "1.2.0",
            "_view_name": "LayoutView",
            "align_content": null,
            "align_items": null,
            "align_self": null,
            "border": null,
            "bottom": null,
            "display": null,
            "flex": null,
            "flex_flow": null,
            "grid_area": null,
            "grid_auto_columns": null,
            "grid_auto_flow": null,
            "grid_auto_rows": null,
            "grid_column": null,
            "grid_gap": null,
            "grid_row": null,
            "grid_template_areas": null,
            "grid_template_columns": null,
            "grid_template_rows": null,
            "height": null,
            "justify_content": null,
            "justify_items": null,
            "left": null,
            "margin": null,
            "max_height": null,
            "max_width": null,
            "min_height": null,
            "min_width": null,
            "object_fit": null,
            "object_position": null,
            "order": null,
            "overflow": null,
            "overflow_x": null,
            "overflow_y": null,
            "padding": null,
            "right": null,
            "top": null,
            "visibility": null,
            "width": null
          }
        },
        "5d4120185fac49e6b84a188aef015ae3": {
          "model_module": "@jupyter-widgets/controls",
          "model_name": "DescriptionStyleModel",
          "model_module_version": "1.5.0",
          "state": {
            "_model_module": "@jupyter-widgets/controls",
            "_model_module_version": "1.5.0",
            "_model_name": "DescriptionStyleModel",
            "_view_count": null,
            "_view_module": "@jupyter-widgets/base",
            "_view_module_version": "1.2.0",
            "_view_name": "StyleView",
            "description_width": ""
          }
        },
        "334c096bcaac481fb67deef475b71e0c": {
          "model_module": "@jupyter-widgets/base",
          "model_name": "LayoutModel",
          "model_module_version": "1.2.0",
          "state": {
            "_model_module": "@jupyter-widgets/base",
            "_model_module_version": "1.2.0",
            "_model_name": "LayoutModel",
            "_view_count": null,
            "_view_module": "@jupyter-widgets/base",
            "_view_module_version": "1.2.0",
            "_view_name": "LayoutView",
            "align_content": null,
            "align_items": null,
            "align_self": null,
            "border": null,
            "bottom": null,
            "display": null,
            "flex": null,
            "flex_flow": null,
            "grid_area": null,
            "grid_auto_columns": null,
            "grid_auto_flow": null,
            "grid_auto_rows": null,
            "grid_column": null,
            "grid_gap": null,
            "grid_row": null,
            "grid_template_areas": null,
            "grid_template_columns": null,
            "grid_template_rows": null,
            "height": null,
            "justify_content": null,
            "justify_items": null,
            "left": null,
            "margin": null,
            "max_height": null,
            "max_width": null,
            "min_height": null,
            "min_width": null,
            "object_fit": null,
            "object_position": null,
            "order": null,
            "overflow": null,
            "overflow_x": null,
            "overflow_y": null,
            "padding": null,
            "right": null,
            "top": null,
            "visibility": null,
            "width": null
          }
        },
        "fb50208f778d46beac785db8125516fc": {
          "model_module": "@jupyter-widgets/controls",
          "model_name": "ProgressStyleModel",
          "model_module_version": "1.5.0",
          "state": {
            "_model_module": "@jupyter-widgets/controls",
            "_model_module_version": "1.5.0",
            "_model_name": "ProgressStyleModel",
            "_view_count": null,
            "_view_module": "@jupyter-widgets/base",
            "_view_module_version": "1.2.0",
            "_view_name": "StyleView",
            "bar_color": null,
            "description_width": ""
          }
        },
        "b783f0af783548fea19725b02f071041": {
          "model_module": "@jupyter-widgets/base",
          "model_name": "LayoutModel",
          "model_module_version": "1.2.0",
          "state": {
            "_model_module": "@jupyter-widgets/base",
            "_model_module_version": "1.2.0",
            "_model_name": "LayoutModel",
            "_view_count": null,
            "_view_module": "@jupyter-widgets/base",
            "_view_module_version": "1.2.0",
            "_view_name": "LayoutView",
            "align_content": null,
            "align_items": null,
            "align_self": null,
            "border": null,
            "bottom": null,
            "display": null,
            "flex": null,
            "flex_flow": null,
            "grid_area": null,
            "grid_auto_columns": null,
            "grid_auto_flow": null,
            "grid_auto_rows": null,
            "grid_column": null,
            "grid_gap": null,
            "grid_row": null,
            "grid_template_areas": null,
            "grid_template_columns": null,
            "grid_template_rows": null,
            "height": null,
            "justify_content": null,
            "justify_items": null,
            "left": null,
            "margin": null,
            "max_height": null,
            "max_width": null,
            "min_height": null,
            "min_width": null,
            "object_fit": null,
            "object_position": null,
            "order": null,
            "overflow": null,
            "overflow_x": null,
            "overflow_y": null,
            "padding": null,
            "right": null,
            "top": null,
            "visibility": null,
            "width": null
          }
        },
        "a68226324e0b4278a33cc2fba00441e1": {
          "model_module": "@jupyter-widgets/controls",
          "model_name": "DescriptionStyleModel",
          "model_module_version": "1.5.0",
          "state": {
            "_model_module": "@jupyter-widgets/controls",
            "_model_module_version": "1.5.0",
            "_model_name": "DescriptionStyleModel",
            "_view_count": null,
            "_view_module": "@jupyter-widgets/base",
            "_view_module_version": "1.2.0",
            "_view_name": "StyleView",
            "description_width": ""
          }
        },
        "20050f71ee4445369b3640c3fd63c9ce": {
          "model_module": "@jupyter-widgets/controls",
          "model_name": "HBoxModel",
          "model_module_version": "1.5.0",
          "state": {
            "_dom_classes": [],
            "_model_module": "@jupyter-widgets/controls",
            "_model_module_version": "1.5.0",
            "_model_name": "HBoxModel",
            "_view_count": null,
            "_view_module": "@jupyter-widgets/controls",
            "_view_module_version": "1.5.0",
            "_view_name": "HBoxView",
            "box_style": "",
            "children": [
              "IPY_MODEL_311f447142334f598b74d49e84d22c13",
              "IPY_MODEL_9daed4dea3ce4dfdaa0e46be9b17ce3e",
              "IPY_MODEL_afc3236518c04690be80099efc5fe55a"
            ],
            "layout": "IPY_MODEL_f21945ca21aa448387eafc901a053eec"
          }
        },
        "311f447142334f598b74d49e84d22c13": {
          "model_module": "@jupyter-widgets/controls",
          "model_name": "HTMLModel",
          "model_module_version": "1.5.0",
          "state": {
            "_dom_classes": [],
            "_model_module": "@jupyter-widgets/controls",
            "_model_module_version": "1.5.0",
            "_model_name": "HTMLModel",
            "_view_count": null,
            "_view_module": "@jupyter-widgets/controls",
            "_view_module_version": "1.5.0",
            "_view_name": "HTMLView",
            "description": "",
            "description_tooltip": null,
            "layout": "IPY_MODEL_053ddb8e4a204b1db846e54a99a83782",
            "placeholder": "​",
            "style": "IPY_MODEL_aeb4c1457f2448889d9bc8b1e0f3f24f",
            "value": "Downloading https://huggingface.co/stanfordnlp/stanza-cs/resolve/v1.10.0/models/default.zip: 100%"
          }
        },
        "9daed4dea3ce4dfdaa0e46be9b17ce3e": {
          "model_module": "@jupyter-widgets/controls",
          "model_name": "FloatProgressModel",
          "model_module_version": "1.5.0",
          "state": {
            "_dom_classes": [],
            "_model_module": "@jupyter-widgets/controls",
            "_model_module_version": "1.5.0",
            "_model_name": "FloatProgressModel",
            "_view_count": null,
            "_view_module": "@jupyter-widgets/controls",
            "_view_module_version": "1.5.0",
            "_view_name": "ProgressView",
            "bar_style": "success",
            "description": "",
            "description_tooltip": null,
            "layout": "IPY_MODEL_7489d6036ddc4416ae4d5fb0402a0ad2",
            "max": 227494479,
            "min": 0,
            "orientation": "horizontal",
            "style": "IPY_MODEL_697516489adc4c74aadfd27be9631d34",
            "value": 227494479
          }
        },
        "afc3236518c04690be80099efc5fe55a": {
          "model_module": "@jupyter-widgets/controls",
          "model_name": "HTMLModel",
          "model_module_version": "1.5.0",
          "state": {
            "_dom_classes": [],
            "_model_module": "@jupyter-widgets/controls",
            "_model_module_version": "1.5.0",
            "_model_name": "HTMLModel",
            "_view_count": null,
            "_view_module": "@jupyter-widgets/controls",
            "_view_module_version": "1.5.0",
            "_view_name": "HTMLView",
            "description": "",
            "description_tooltip": null,
            "layout": "IPY_MODEL_82ccb694f22f4f61af986012cc5ba3eb",
            "placeholder": "​",
            "style": "IPY_MODEL_9169314a130a4bc0b5d91537230545a1",
            "value": " 227M/227M [00:00&lt;00:00, 345MB/s]"
          }
        },
        "f21945ca21aa448387eafc901a053eec": {
          "model_module": "@jupyter-widgets/base",
          "model_name": "LayoutModel",
          "model_module_version": "1.2.0",
          "state": {
            "_model_module": "@jupyter-widgets/base",
            "_model_module_version": "1.2.0",
            "_model_name": "LayoutModel",
            "_view_count": null,
            "_view_module": "@jupyter-widgets/base",
            "_view_module_version": "1.2.0",
            "_view_name": "LayoutView",
            "align_content": null,
            "align_items": null,
            "align_self": null,
            "border": null,
            "bottom": null,
            "display": null,
            "flex": null,
            "flex_flow": null,
            "grid_area": null,
            "grid_auto_columns": null,
            "grid_auto_flow": null,
            "grid_auto_rows": null,
            "grid_column": null,
            "grid_gap": null,
            "grid_row": null,
            "grid_template_areas": null,
            "grid_template_columns": null,
            "grid_template_rows": null,
            "height": null,
            "justify_content": null,
            "justify_items": null,
            "left": null,
            "margin": null,
            "max_height": null,
            "max_width": null,
            "min_height": null,
            "min_width": null,
            "object_fit": null,
            "object_position": null,
            "order": null,
            "overflow": null,
            "overflow_x": null,
            "overflow_y": null,
            "padding": null,
            "right": null,
            "top": null,
            "visibility": null,
            "width": null
          }
        },
        "053ddb8e4a204b1db846e54a99a83782": {
          "model_module": "@jupyter-widgets/base",
          "model_name": "LayoutModel",
          "model_module_version": "1.2.0",
          "state": {
            "_model_module": "@jupyter-widgets/base",
            "_model_module_version": "1.2.0",
            "_model_name": "LayoutModel",
            "_view_count": null,
            "_view_module": "@jupyter-widgets/base",
            "_view_module_version": "1.2.0",
            "_view_name": "LayoutView",
            "align_content": null,
            "align_items": null,
            "align_self": null,
            "border": null,
            "bottom": null,
            "display": null,
            "flex": null,
            "flex_flow": null,
            "grid_area": null,
            "grid_auto_columns": null,
            "grid_auto_flow": null,
            "grid_auto_rows": null,
            "grid_column": null,
            "grid_gap": null,
            "grid_row": null,
            "grid_template_areas": null,
            "grid_template_columns": null,
            "grid_template_rows": null,
            "height": null,
            "justify_content": null,
            "justify_items": null,
            "left": null,
            "margin": null,
            "max_height": null,
            "max_width": null,
            "min_height": null,
            "min_width": null,
            "object_fit": null,
            "object_position": null,
            "order": null,
            "overflow": null,
            "overflow_x": null,
            "overflow_y": null,
            "padding": null,
            "right": null,
            "top": null,
            "visibility": null,
            "width": null
          }
        },
        "aeb4c1457f2448889d9bc8b1e0f3f24f": {
          "model_module": "@jupyter-widgets/controls",
          "model_name": "DescriptionStyleModel",
          "model_module_version": "1.5.0",
          "state": {
            "_model_module": "@jupyter-widgets/controls",
            "_model_module_version": "1.5.0",
            "_model_name": "DescriptionStyleModel",
            "_view_count": null,
            "_view_module": "@jupyter-widgets/base",
            "_view_module_version": "1.2.0",
            "_view_name": "StyleView",
            "description_width": ""
          }
        },
        "7489d6036ddc4416ae4d5fb0402a0ad2": {
          "model_module": "@jupyter-widgets/base",
          "model_name": "LayoutModel",
          "model_module_version": "1.2.0",
          "state": {
            "_model_module": "@jupyter-widgets/base",
            "_model_module_version": "1.2.0",
            "_model_name": "LayoutModel",
            "_view_count": null,
            "_view_module": "@jupyter-widgets/base",
            "_view_module_version": "1.2.0",
            "_view_name": "LayoutView",
            "align_content": null,
            "align_items": null,
            "align_self": null,
            "border": null,
            "bottom": null,
            "display": null,
            "flex": null,
            "flex_flow": null,
            "grid_area": null,
            "grid_auto_columns": null,
            "grid_auto_flow": null,
            "grid_auto_rows": null,
            "grid_column": null,
            "grid_gap": null,
            "grid_row": null,
            "grid_template_areas": null,
            "grid_template_columns": null,
            "grid_template_rows": null,
            "height": null,
            "justify_content": null,
            "justify_items": null,
            "left": null,
            "margin": null,
            "max_height": null,
            "max_width": null,
            "min_height": null,
            "min_width": null,
            "object_fit": null,
            "object_position": null,
            "order": null,
            "overflow": null,
            "overflow_x": null,
            "overflow_y": null,
            "padding": null,
            "right": null,
            "top": null,
            "visibility": null,
            "width": null
          }
        },
        "697516489adc4c74aadfd27be9631d34": {
          "model_module": "@jupyter-widgets/controls",
          "model_name": "ProgressStyleModel",
          "model_module_version": "1.5.0",
          "state": {
            "_model_module": "@jupyter-widgets/controls",
            "_model_module_version": "1.5.0",
            "_model_name": "ProgressStyleModel",
            "_view_count": null,
            "_view_module": "@jupyter-widgets/base",
            "_view_module_version": "1.2.0",
            "_view_name": "StyleView",
            "bar_color": null,
            "description_width": ""
          }
        },
        "82ccb694f22f4f61af986012cc5ba3eb": {
          "model_module": "@jupyter-widgets/base",
          "model_name": "LayoutModel",
          "model_module_version": "1.2.0",
          "state": {
            "_model_module": "@jupyter-widgets/base",
            "_model_module_version": "1.2.0",
            "_model_name": "LayoutModel",
            "_view_count": null,
            "_view_module": "@jupyter-widgets/base",
            "_view_module_version": "1.2.0",
            "_view_name": "LayoutView",
            "align_content": null,
            "align_items": null,
            "align_self": null,
            "border": null,
            "bottom": null,
            "display": null,
            "flex": null,
            "flex_flow": null,
            "grid_area": null,
            "grid_auto_columns": null,
            "grid_auto_flow": null,
            "grid_auto_rows": null,
            "grid_column": null,
            "grid_gap": null,
            "grid_row": null,
            "grid_template_areas": null,
            "grid_template_columns": null,
            "grid_template_rows": null,
            "height": null,
            "justify_content": null,
            "justify_items": null,
            "left": null,
            "margin": null,
            "max_height": null,
            "max_width": null,
            "min_height": null,
            "min_width": null,
            "object_fit": null,
            "object_position": null,
            "order": null,
            "overflow": null,
            "overflow_x": null,
            "overflow_y": null,
            "padding": null,
            "right": null,
            "top": null,
            "visibility": null,
            "width": null
          }
        },
        "9169314a130a4bc0b5d91537230545a1": {
          "model_module": "@jupyter-widgets/controls",
          "model_name": "DescriptionStyleModel",
          "model_module_version": "1.5.0",
          "state": {
            "_model_module": "@jupyter-widgets/controls",
            "_model_module_version": "1.5.0",
            "_model_name": "DescriptionStyleModel",
            "_view_count": null,
            "_view_module": "@jupyter-widgets/base",
            "_view_module_version": "1.2.0",
            "_view_name": "StyleView",
            "description_width": ""
          }
        },
        "4a64bc68375a4dd2b99f6f43993e1cb7": {
          "model_module": "@jupyter-widgets/controls",
          "model_name": "HBoxModel",
          "model_module_version": "1.5.0",
          "state": {
            "_dom_classes": [],
            "_model_module": "@jupyter-widgets/controls",
            "_model_module_version": "1.5.0",
            "_model_name": "HBoxModel",
            "_view_count": null,
            "_view_module": "@jupyter-widgets/controls",
            "_view_module_version": "1.5.0",
            "_view_name": "HBoxView",
            "box_style": "",
            "children": [
              "IPY_MODEL_48f4f74c2a534b1ab53905b0929c6538",
              "IPY_MODEL_a613a7f1753d4ff9b149ba9ba8d94646",
              "IPY_MODEL_eb7dc64bacb04949b50646132e031247"
            ],
            "layout": "IPY_MODEL_5e2c4b3a015e43dbb4649fa7d0ac1fff"
          }
        },
        "48f4f74c2a534b1ab53905b0929c6538": {
          "model_module": "@jupyter-widgets/controls",
          "model_name": "HTMLModel",
          "model_module_version": "1.5.0",
          "state": {
            "_dom_classes": [],
            "_model_module": "@jupyter-widgets/controls",
            "_model_module_version": "1.5.0",
            "_model_name": "HTMLModel",
            "_view_count": null,
            "_view_module": "@jupyter-widgets/controls",
            "_view_module_version": "1.5.0",
            "_view_name": "HTMLView",
            "description": "",
            "description_tooltip": null,
            "layout": "IPY_MODEL_9ed2e29b9f644bc6ab9a90a074f3e002",
            "placeholder": "​",
            "style": "IPY_MODEL_5bb8f60399ca4acc82d2af89c0a40536",
            "value": "Downloading https://raw.githubusercontent.com/stanfordnlp/stanza-resources/main/resources_1.10.0.json: "
          }
        },
        "a613a7f1753d4ff9b149ba9ba8d94646": {
          "model_module": "@jupyter-widgets/controls",
          "model_name": "FloatProgressModel",
          "model_module_version": "1.5.0",
          "state": {
            "_dom_classes": [],
            "_model_module": "@jupyter-widgets/controls",
            "_model_module_version": "1.5.0",
            "_model_name": "FloatProgressModel",
            "_view_count": null,
            "_view_module": "@jupyter-widgets/controls",
            "_view_module_version": "1.5.0",
            "_view_name": "ProgressView",
            "bar_style": "success",
            "description": "",
            "description_tooltip": null,
            "layout": "IPY_MODEL_83015543cec747ff86084dd555960d33",
            "max": 52559,
            "min": 0,
            "orientation": "horizontal",
            "style": "IPY_MODEL_08440895b14a4ca59a0591f569e773c1",
            "value": 52559
          }
        },
        "eb7dc64bacb04949b50646132e031247": {
          "model_module": "@jupyter-widgets/controls",
          "model_name": "HTMLModel",
          "model_module_version": "1.5.0",
          "state": {
            "_dom_classes": [],
            "_model_module": "@jupyter-widgets/controls",
            "_model_module_version": "1.5.0",
            "_model_name": "HTMLModel",
            "_view_count": null,
            "_view_module": "@jupyter-widgets/controls",
            "_view_module_version": "1.5.0",
            "_view_name": "HTMLView",
            "description": "",
            "description_tooltip": null,
            "layout": "IPY_MODEL_56a222c285cc476898d0d01c9dea0e47",
            "placeholder": "​",
            "style": "IPY_MODEL_e558c02b512e4654b5bf5fb602b7324b",
            "value": " 424k/? [00:00&lt;00:00, 28.2MB/s]"
          }
        },
        "5e2c4b3a015e43dbb4649fa7d0ac1fff": {
          "model_module": "@jupyter-widgets/base",
          "model_name": "LayoutModel",
          "model_module_version": "1.2.0",
          "state": {
            "_model_module": "@jupyter-widgets/base",
            "_model_module_version": "1.2.0",
            "_model_name": "LayoutModel",
            "_view_count": null,
            "_view_module": "@jupyter-widgets/base",
            "_view_module_version": "1.2.0",
            "_view_name": "LayoutView",
            "align_content": null,
            "align_items": null,
            "align_self": null,
            "border": null,
            "bottom": null,
            "display": null,
            "flex": null,
            "flex_flow": null,
            "grid_area": null,
            "grid_auto_columns": null,
            "grid_auto_flow": null,
            "grid_auto_rows": null,
            "grid_column": null,
            "grid_gap": null,
            "grid_row": null,
            "grid_template_areas": null,
            "grid_template_columns": null,
            "grid_template_rows": null,
            "height": null,
            "justify_content": null,
            "justify_items": null,
            "left": null,
            "margin": null,
            "max_height": null,
            "max_width": null,
            "min_height": null,
            "min_width": null,
            "object_fit": null,
            "object_position": null,
            "order": null,
            "overflow": null,
            "overflow_x": null,
            "overflow_y": null,
            "padding": null,
            "right": null,
            "top": null,
            "visibility": null,
            "width": null
          }
        },
        "9ed2e29b9f644bc6ab9a90a074f3e002": {
          "model_module": "@jupyter-widgets/base",
          "model_name": "LayoutModel",
          "model_module_version": "1.2.0",
          "state": {
            "_model_module": "@jupyter-widgets/base",
            "_model_module_version": "1.2.0",
            "_model_name": "LayoutModel",
            "_view_count": null,
            "_view_module": "@jupyter-widgets/base",
            "_view_module_version": "1.2.0",
            "_view_name": "LayoutView",
            "align_content": null,
            "align_items": null,
            "align_self": null,
            "border": null,
            "bottom": null,
            "display": null,
            "flex": null,
            "flex_flow": null,
            "grid_area": null,
            "grid_auto_columns": null,
            "grid_auto_flow": null,
            "grid_auto_rows": null,
            "grid_column": null,
            "grid_gap": null,
            "grid_row": null,
            "grid_template_areas": null,
            "grid_template_columns": null,
            "grid_template_rows": null,
            "height": null,
            "justify_content": null,
            "justify_items": null,
            "left": null,
            "margin": null,
            "max_height": null,
            "max_width": null,
            "min_height": null,
            "min_width": null,
            "object_fit": null,
            "object_position": null,
            "order": null,
            "overflow": null,
            "overflow_x": null,
            "overflow_y": null,
            "padding": null,
            "right": null,
            "top": null,
            "visibility": null,
            "width": null
          }
        },
        "5bb8f60399ca4acc82d2af89c0a40536": {
          "model_module": "@jupyter-widgets/controls",
          "model_name": "DescriptionStyleModel",
          "model_module_version": "1.5.0",
          "state": {
            "_model_module": "@jupyter-widgets/controls",
            "_model_module_version": "1.5.0",
            "_model_name": "DescriptionStyleModel",
            "_view_count": null,
            "_view_module": "@jupyter-widgets/base",
            "_view_module_version": "1.2.0",
            "_view_name": "StyleView",
            "description_width": ""
          }
        },
        "83015543cec747ff86084dd555960d33": {
          "model_module": "@jupyter-widgets/base",
          "model_name": "LayoutModel",
          "model_module_version": "1.2.0",
          "state": {
            "_model_module": "@jupyter-widgets/base",
            "_model_module_version": "1.2.0",
            "_model_name": "LayoutModel",
            "_view_count": null,
            "_view_module": "@jupyter-widgets/base",
            "_view_module_version": "1.2.0",
            "_view_name": "LayoutView",
            "align_content": null,
            "align_items": null,
            "align_self": null,
            "border": null,
            "bottom": null,
            "display": null,
            "flex": null,
            "flex_flow": null,
            "grid_area": null,
            "grid_auto_columns": null,
            "grid_auto_flow": null,
            "grid_auto_rows": null,
            "grid_column": null,
            "grid_gap": null,
            "grid_row": null,
            "grid_template_areas": null,
            "grid_template_columns": null,
            "grid_template_rows": null,
            "height": null,
            "justify_content": null,
            "justify_items": null,
            "left": null,
            "margin": null,
            "max_height": null,
            "max_width": null,
            "min_height": null,
            "min_width": null,
            "object_fit": null,
            "object_position": null,
            "order": null,
            "overflow": null,
            "overflow_x": null,
            "overflow_y": null,
            "padding": null,
            "right": null,
            "top": null,
            "visibility": null,
            "width": null
          }
        },
        "08440895b14a4ca59a0591f569e773c1": {
          "model_module": "@jupyter-widgets/controls",
          "model_name": "ProgressStyleModel",
          "model_module_version": "1.5.0",
          "state": {
            "_model_module": "@jupyter-widgets/controls",
            "_model_module_version": "1.5.0",
            "_model_name": "ProgressStyleModel",
            "_view_count": null,
            "_view_module": "@jupyter-widgets/base",
            "_view_module_version": "1.2.0",
            "_view_name": "StyleView",
            "bar_color": null,
            "description_width": ""
          }
        },
        "56a222c285cc476898d0d01c9dea0e47": {
          "model_module": "@jupyter-widgets/base",
          "model_name": "LayoutModel",
          "model_module_version": "1.2.0",
          "state": {
            "_model_module": "@jupyter-widgets/base",
            "_model_module_version": "1.2.0",
            "_model_name": "LayoutModel",
            "_view_count": null,
            "_view_module": "@jupyter-widgets/base",
            "_view_module_version": "1.2.0",
            "_view_name": "LayoutView",
            "align_content": null,
            "align_items": null,
            "align_self": null,
            "border": null,
            "bottom": null,
            "display": null,
            "flex": null,
            "flex_flow": null,
            "grid_area": null,
            "grid_auto_columns": null,
            "grid_auto_flow": null,
            "grid_auto_rows": null,
            "grid_column": null,
            "grid_gap": null,
            "grid_row": null,
            "grid_template_areas": null,
            "grid_template_columns": null,
            "grid_template_rows": null,
            "height": null,
            "justify_content": null,
            "justify_items": null,
            "left": null,
            "margin": null,
            "max_height": null,
            "max_width": null,
            "min_height": null,
            "min_width": null,
            "object_fit": null,
            "object_position": null,
            "order": null,
            "overflow": null,
            "overflow_x": null,
            "overflow_y": null,
            "padding": null,
            "right": null,
            "top": null,
            "visibility": null,
            "width": null
          }
        },
        "e558c02b512e4654b5bf5fb602b7324b": {
          "model_module": "@jupyter-widgets/controls",
          "model_name": "DescriptionStyleModel",
          "model_module_version": "1.5.0",
          "state": {
            "_model_module": "@jupyter-widgets/controls",
            "_model_module_version": "1.5.0",
            "_model_name": "DescriptionStyleModel",
            "_view_count": null,
            "_view_module": "@jupyter-widgets/base",
            "_view_module_version": "1.2.0",
            "_view_name": "StyleView",
            "description_width": ""
          }
        }
      }
    }
  },
  "cells": [
    {
      "cell_type": "markdown",
      "metadata": {
        "id": "view-in-github",
        "colab_type": "text"
      },
      "source": [
        "<a href=\"https://colab.research.google.com/github/stepanjaburek/workingpaper_czech_psp_speeches/blob/main/Word2Vec_FastText_IPS_Paper.ipynb\" target=\"_parent\"><img src=\"https://colab.research.google.com/assets/colab-badge.svg\" alt=\"Open In Colab\"/></a>"
      ]
    },
    {
      "cell_type": "markdown",
      "source": [
        "# Word embeddings"
      ],
      "metadata": {
        "id": "M_fYIsWA5CR8"
      }
    },
    {
      "cell_type": "markdown",
      "source": [
        "# Setup"
      ],
      "metadata": {
        "id": "p3fCeVmu5G6-"
      }
    },
    {
      "cell_type": "code",
      "source": [
        "!pip install numpy==1.24.4 --quiet # somehow new numpy doesnt work well with gensim\n",
        "!pip install gensim==4.3.3 --quiet\n",
        "\n",
        "import os\n",
        "os.kill(os.getpid(), 9)"
      ],
      "metadata": {
        "id": "1mUAMqOQxlDX"
      },
      "execution_count": null,
      "outputs": []
    },
    {
      "cell_type": "code",
      "execution_count": 1,
      "metadata": {
        "id": "nmEUNUbYxCKv",
        "colab": {
          "base_uri": "https://localhost:8080/"
        },
        "outputId": "d90f22c0-83b1-43e2-e760-60e8a33932d9"
      },
      "outputs": [
        {
          "output_type": "stream",
          "name": "stdout",
          "text": [
            "\u001b[2K   \u001b[90m━━━━━━━━━━━━━━━━━━━━━━━━━━━━━━━━━━━━━━━━\u001b[0m \u001b[32m1.1/1.1 MB\u001b[0m \u001b[31m18.9 MB/s\u001b[0m eta \u001b[36m0:00:00\u001b[0m\n",
            "\u001b[2K   \u001b[90m━━━━━━━━━━━━━━━━━━━━━━━━━━━━━━━━━━━━━━━━\u001b[0m \u001b[32m363.4/363.4 MB\u001b[0m \u001b[31m3.1 MB/s\u001b[0m eta \u001b[36m0:00:00\u001b[0m\n",
            "\u001b[2K   \u001b[90m━━━━━━━━━━━━━━━━━━━━━━━━━━━━━━━━━━━━━━━━\u001b[0m \u001b[32m13.8/13.8 MB\u001b[0m \u001b[31m106.5 MB/s\u001b[0m eta \u001b[36m0:00:00\u001b[0m\n",
            "\u001b[2K   \u001b[90m━━━━━━━━━━━━━━━━━━━━━━━━━━━━━━━━━━━━━━━━\u001b[0m \u001b[32m24.6/24.6 MB\u001b[0m \u001b[31m86.3 MB/s\u001b[0m eta \u001b[36m0:00:00\u001b[0m\n",
            "\u001b[2K   \u001b[90m━━━━━━━━━━━━━━━━━━━━━━━━━━━━━━━━━━━━━━━━\u001b[0m \u001b[32m883.7/883.7 kB\u001b[0m \u001b[31m51.5 MB/s\u001b[0m eta \u001b[36m0:00:00\u001b[0m\n",
            "\u001b[2K   \u001b[90m━━━━━━━━━━━━━━━━━━━━━━━━━━━━━━━━━━━━━━━━\u001b[0m \u001b[32m664.8/664.8 MB\u001b[0m \u001b[31m1.6 MB/s\u001b[0m eta \u001b[36m0:00:00\u001b[0m\n",
            "\u001b[2K   \u001b[90m━━━━━━━━━━━━━━━━━━━━━━━━━━━━━━━━━━━━━━━━\u001b[0m \u001b[32m211.5/211.5 MB\u001b[0m \u001b[31m11.1 MB/s\u001b[0m eta \u001b[36m0:00:00\u001b[0m\n",
            "\u001b[2K   \u001b[90m━━━━━━━━━━━━━━━━━━━━━━━━━━━━━━━━━━━━━━━━\u001b[0m \u001b[32m56.3/56.3 MB\u001b[0m \u001b[31m39.1 MB/s\u001b[0m eta \u001b[36m0:00:00\u001b[0m\n",
            "\u001b[2K   \u001b[90m━━━━━━━━━━━━━━━━━━━━━━━━━━━━━━━━━━━━━━━━\u001b[0m \u001b[32m127.9/127.9 MB\u001b[0m \u001b[31m17.7 MB/s\u001b[0m eta \u001b[36m0:00:00\u001b[0m\n",
            "\u001b[2K   \u001b[90m━━━━━━━━━━━━━━━━━━━━━━━━━━━━━━━━━━━━━━━━\u001b[0m \u001b[32m207.5/207.5 MB\u001b[0m \u001b[31m5.0 MB/s\u001b[0m eta \u001b[36m0:00:00\u001b[0m\n",
            "\u001b[2K   \u001b[90m━━━━━━━━━━━━━━━━━━━━━━━━━━━━━━━━━━━━━━━━\u001b[0m \u001b[32m21.1/21.1 MB\u001b[0m \u001b[31m89.2 MB/s\u001b[0m eta \u001b[36m0:00:00\u001b[0m\n",
            "\u001b[2K   \u001b[90m━━━━━━━━━━━━━━━━━━━━━━━━━━━━━━━━━━━━━━━━\u001b[0m \u001b[32m590.6/590.6 kB\u001b[0m \u001b[31m38.0 MB/s\u001b[0m eta \u001b[36m0:00:00\u001b[0m\n",
            "\u001b[?25h"
          ]
        }
      ],
      "source": [
        "!pip install stanza --quiet\n",
        "import stanza\n",
        "import pandas as pd\n",
        "from gensim.models import Word2Vec\n",
        "from gensim.utils import simple_preprocess\n",
        "from gensim.models import FastText\n",
        "from gensim.models import KeyedVectors\n",
        "from tqdm import tqdm\n",
        "tqdm.pandas()"
      ]
    },
    {
      "cell_type": "code",
      "source": [
        "#df = pd.read_csv('/content/word2vec_left.csv')\n",
        "df = pd.read_csv('/content/word2vec_right.csv')"
      ],
      "metadata": {
        "id": "2kV3omCh5TzP"
      },
      "execution_count": 9,
      "outputs": []
    },
    {
      "cell_type": "markdown",
      "source": [
        "# Setup lemma"
      ],
      "metadata": {
        "id": "IF9R6eFN5PFv"
      }
    },
    {
      "cell_type": "code",
      "source": [
        "stanza.download(\"cs\")  # get the Czech model\n",
        "nlp = stanza.Pipeline(\"cs\", processors=\"tokenize,lemma\")"
      ],
      "metadata": {
        "id": "uH58mJgVTu9I",
        "colab": {
          "base_uri": "https://localhost:8080/",
          "height": 498,
          "referenced_widgets": [
            "8e0c9398457f41e8b4e56796515df8c2",
            "ffc9c8363f804febaecb34ea3938f0a6",
            "b921270a3eaf4f08a6b021b53893ca65",
            "7d82a34c5df14a6898e210001233d180",
            "1b56096671ba4434be70a5594331a1c2",
            "3951d0d7714a43418789f7a283eaec08",
            "5d4120185fac49e6b84a188aef015ae3",
            "334c096bcaac481fb67deef475b71e0c",
            "fb50208f778d46beac785db8125516fc",
            "b783f0af783548fea19725b02f071041",
            "a68226324e0b4278a33cc2fba00441e1",
            "20050f71ee4445369b3640c3fd63c9ce",
            "311f447142334f598b74d49e84d22c13",
            "9daed4dea3ce4dfdaa0e46be9b17ce3e",
            "afc3236518c04690be80099efc5fe55a",
            "f21945ca21aa448387eafc901a053eec",
            "053ddb8e4a204b1db846e54a99a83782",
            "aeb4c1457f2448889d9bc8b1e0f3f24f",
            "7489d6036ddc4416ae4d5fb0402a0ad2",
            "697516489adc4c74aadfd27be9631d34",
            "82ccb694f22f4f61af986012cc5ba3eb",
            "9169314a130a4bc0b5d91537230545a1",
            "4a64bc68375a4dd2b99f6f43993e1cb7",
            "48f4f74c2a534b1ab53905b0929c6538",
            "a613a7f1753d4ff9b149ba9ba8d94646",
            "eb7dc64bacb04949b50646132e031247",
            "5e2c4b3a015e43dbb4649fa7d0ac1fff",
            "9ed2e29b9f644bc6ab9a90a074f3e002",
            "5bb8f60399ca4acc82d2af89c0a40536",
            "83015543cec747ff86084dd555960d33",
            "08440895b14a4ca59a0591f569e773c1",
            "56a222c285cc476898d0d01c9dea0e47",
            "e558c02b512e4654b5bf5fb602b7324b"
          ]
        },
        "outputId": "8287705f-4c74-4920-9793-3967ffee0733"
      },
      "execution_count": 3,
      "outputs": [
        {
          "output_type": "display_data",
          "data": {
            "text/plain": [
              "Downloading https://raw.githubusercontent.com/stanfordnlp/stanza-resources/main/resources_1.10.0.json:   0%|  …"
            ],
            "application/vnd.jupyter.widget-view+json": {
              "version_major": 2,
              "version_minor": 0,
              "model_id": "8e0c9398457f41e8b4e56796515df8c2"
            }
          },
          "metadata": {}
        },
        {
          "output_type": "stream",
          "name": "stderr",
          "text": [
            "INFO:stanza:Downloaded file to /root/stanza_resources/resources.json\n",
            "INFO:stanza:Downloading default packages for language: cs (Czech) ...\n"
          ]
        },
        {
          "output_type": "display_data",
          "data": {
            "text/plain": [
              "Downloading https://huggingface.co/stanfordnlp/stanza-cs/resolve/v1.10.0/models/default.zip:   0%|          | …"
            ],
            "application/vnd.jupyter.widget-view+json": {
              "version_major": 2,
              "version_minor": 0,
              "model_id": "20050f71ee4445369b3640c3fd63c9ce"
            }
          },
          "metadata": {}
        },
        {
          "output_type": "stream",
          "name": "stderr",
          "text": [
            "INFO:stanza:Downloaded file to /root/stanza_resources/cs/default.zip\n",
            "INFO:stanza:Finished downloading models and saved to /root/stanza_resources\n",
            "INFO:stanza:Checking for updates to resources.json in case models have been updated.  Note: this behavior can be turned off with download_method=None or download_method=DownloadMethod.REUSE_RESOURCES\n"
          ]
        },
        {
          "output_type": "display_data",
          "data": {
            "text/plain": [
              "Downloading https://raw.githubusercontent.com/stanfordnlp/stanza-resources/main/resources_1.10.0.json:   0%|  …"
            ],
            "application/vnd.jupyter.widget-view+json": {
              "version_major": 2,
              "version_minor": 0,
              "model_id": "4a64bc68375a4dd2b99f6f43993e1cb7"
            }
          },
          "metadata": {}
        },
        {
          "output_type": "stream",
          "name": "stderr",
          "text": [
            "INFO:stanza:Downloaded file to /root/stanza_resources/resources.json\n",
            "WARNING:stanza:Language cs package default expects mwt, which has been added\n",
            "INFO:stanza:Loading these models for language: cs (Czech):\n",
            "============================\n",
            "| Processor | Package      |\n",
            "----------------------------\n",
            "| tokenize  | pdt          |\n",
            "| mwt       | pdt          |\n",
            "| lemma     | pdt_nocharlm |\n",
            "============================\n",
            "\n",
            "INFO:stanza:Using device: cuda\n",
            "INFO:stanza:Loading: tokenize\n",
            "INFO:stanza:Loading: mwt\n",
            "INFO:stanza:Loading: lemma\n",
            "INFO:stanza:Done loading processors!\n"
          ]
        }
      ]
    },
    {
      "cell_type": "code",
      "source": [
        "doc = nlp(\"levicový poslanec zvolil levicovou vládu a levicová maláčová..babiš babiše babišem\") # test lemma setup\n",
        "lemmas = [word.lemma for sent in doc.sentences for word in sent.words]\n",
        "print(lemmas)"
      ],
      "metadata": {
        "id": "aCFEH8JVUWlz",
        "colab": {
          "base_uri": "https://localhost:8080/"
        },
        "outputId": "1e79d506-fa37-4324-864b-e28a8078a46a"
      },
      "execution_count": 10,
      "outputs": [
        {
          "output_type": "stream",
          "name": "stdout",
          "text": [
            "['levicový', 'poslanec', 'zvolit', 'levicový', 'vláda', 'a', 'levicový', 'maláčová', '.', '.', 'babiš', 'babiše', 'babiš']\n"
          ]
        }
      ]
    },
    {
      "cell_type": "code",
      "source": [
        "# Define the lemmatization function\n",
        "def lemmatize_text(text):\n",
        "    text = str(text)\n",
        "    doc = nlp(text)  # apply Stanza NLP\n",
        "    lemmas = [word.lemma for sent in doc.sentences for word in sent.words if word.upos != 'PUNCT']     # Get lemmatized tokens (exclude punctuation and spaces)\n",
        "    return \" \".join(lemmas)     # Return the lemmatized text as a string\n",
        "# Claude helping here"
      ],
      "metadata": {
        "id": "LJuHvho7WpZ4"
      },
      "execution_count": 11,
      "outputs": []
    },
    {
      "cell_type": "code",
      "source": [
        "df['text'] = df['text'].fillna('').astype(str) # be sure with NAs, shouldnt be any though\n",
        "df['text_lemma'] = df['text'].progress_apply(lemmatize_text) # lemmatization using stanza\n",
        "\n",
        "print(df[['text_lemma', 'text']].head()) # check it"
      ],
      "metadata": {
        "colab": {
          "base_uri": "https://localhost:8080/"
        },
        "id": "z_jy3eS9-mf0",
        "outputId": "893abccc-43f8-45da-c74a-84e69d2148d7"
      },
      "execution_count": 13,
      "outputs": [
        {
          "output_type": "stream",
          "name": "stderr",
          "text": [
            "100%|██████████| 83064/83064 [1:26:27<00:00, 16.01it/s]"
          ]
        },
        {
          "output_type": "stream",
          "name": "stdout",
          "text": [
            "                                          text_lemma  \\\n",
            "0  vážený paní poslankyně vážený pán poslanec dám...   \n",
            "1                                      mimo mikrofon   \n",
            "2                                      mimo mikrofon   \n",
            "3                                      mimo mikrofon   \n",
            "4  hovořit z místo omlouvat se omyl být nahlásil ...   \n",
            "\n",
            "                                                text  \n",
            "0  vážené paní poslankyně  vážení páni poslanci  ...  \n",
            "1                                  mimo mikrofon      \n",
            "2                                  mimo mikrofon      \n",
            "3                                  mimo mikrofon      \n",
            "4  hovořil z místa   omlouvám se  omylem jsem nah...  \n"
          ]
        },
        {
          "output_type": "stream",
          "name": "stderr",
          "text": [
            "\n"
          ]
        }
      ]
    },
    {
      "cell_type": "markdown",
      "source": [
        "# Or Import already lemmatizated data instead"
      ],
      "metadata": {
        "id": "35muXKU1q2Vj"
      }
    },
    {
      "cell_type": "code",
      "source": [
        "#df.to_csv('lemmatized_data_left.csv', index=False)\n",
        "df.to_csv('lemmatized_data_right.csv', index=False)"
      ],
      "metadata": {
        "id": "Dk9vt_8j5nFk"
      },
      "execution_count": 14,
      "outputs": []
    },
    {
      "cell_type": "markdown",
      "source": [
        "# FastText"
      ],
      "metadata": {
        "id": "G6HOEWqoq9LH"
      }
    },
    {
      "cell_type": "code",
      "source": [
        "texts = df['text_lemma']\n",
        "corpus = texts.progress_apply(lambda x: simple_preprocess(x, deacc=False)) # finalize using gensim's simple_preprocess\n",
        "print(corpus.head())"
      ],
      "metadata": {
        "colab": {
          "base_uri": "https://localhost:8080/"
        },
        "id": "_zqxfVZ2xeWK",
        "outputId": "be5266d0-f255-496a-9810-a6d446e62b04"
      },
      "execution_count": 61,
      "outputs": [
        {
          "output_type": "stream",
          "name": "stderr",
          "text": [
            "100%|██████████| 83064/83064 [00:21<00:00, 3832.00it/s]"
          ]
        },
        {
          "output_type": "stream",
          "name": "stdout",
          "text": [
            "0    [vážený, paní, poslankyně, vážený, pán, poslan...\n",
            "1                                     [mimo, mikrofon]\n",
            "2                                     [mimo, mikrofon]\n",
            "3                                     [mimo, mikrofon]\n",
            "4    [hovořit, místo, omlouvat, se, omyl, být, nahl...\n",
            "Name: text_lemma, dtype: object\n"
          ]
        },
        {
          "output_type": "stream",
          "name": "stderr",
          "text": [
            "\n"
          ]
        }
      ]
    },
    {
      "cell_type": "code",
      "source": [
        "# Train FastText model\n",
        "model = FastText(\n",
        "    sentences=corpus,\n",
        "    vector_size=200,    # dimensions of embedding space (you can adjust this)\n",
        "    window=7,           # context window size\n",
        "    min_count=10,       # ignore words with less than this frequency\n",
        "    workers=8,          # use multiple cores\n",
        "    sg=1,               # 1 = skip-gram; 0 = CBOW (skip-gram is usually better for infrequent words)\n",
        "    epochs=10           # number of training passes\n",
        ")"
      ],
      "metadata": {
        "id": "GdicaRNdfdi2"
      },
      "execution_count": 63,
      "outputs": []
    },
    {
      "cell_type": "code",
      "source": [
        "# get the already saved word embeddings\n",
        "# Load back with memory-mapping = read-only, shared across processes.\n",
        "wv = KeyedVectors.load(\"fasttext_wordvectors_right\", mmap='r')\n",
        "vector = wv['prezident']  # Get numpy vector of a word\n",
        "wv.most_similar('prezident', topn=20)"
      ],
      "metadata": {
        "id": "mT4vJYOTsD-O"
      },
      "execution_count": null,
      "outputs": []
    },
    {
      "cell_type": "code",
      "source": [
        "model.wv.most_similar('levicový', topn=20)"
      ],
      "metadata": {
        "colab": {
          "base_uri": "https://localhost:8080/"
        },
        "id": "DvwAoIIukC1P",
        "outputId": "da82d6a4-a335-444d-9cdd-4a069af8ff89"
      },
      "execution_count": 65,
      "outputs": [
        {
          "output_type": "execute_result",
          "data": {
            "text/plain": [
              "[('pravicový', 0.8849537968635559),\n",
              " ('levicovým', 0.8717182278633118),\n",
              " ('levicově', 0.8712047934532166),\n",
              " ('pravicově', 0.7574436664581299),\n",
              " ('levice', 0.7239279747009277),\n",
              " ('pravice', 0.6695894598960876),\n",
              " ('opozice', 0.5874530076980591),\n",
              " ('vládnout', 0.5739977359771729),\n",
              " ('nevládne', 0.5673942565917969),\n",
              " ('koalice', 0.5663481950759888),\n",
              " ('pětikoalice', 0.5549941658973694),\n",
              " ('panický', 0.544329822063446),\n",
              " ('nedemokratický', 0.5415959358215332),\n",
              " ('liberál', 0.5399074554443359),\n",
              " ('unionista', 0.5386995673179626),\n",
              " ('demokracie', 0.5378758311271667),\n",
              " ('liberální', 0.537123441696167),\n",
              " ('převládnout', 0.5370638370513916),\n",
              " ('opoziční', 0.5360844135284424),\n",
              " ('nalevo', 0.5359100103378296)]"
            ]
          },
          "metadata": {},
          "execution_count": 65
        }
      ]
    },
    {
      "cell_type": "code",
      "source": [
        "# Get similarity between two words\n",
        "model.wv.similarity('senát', 'záchod')"
      ],
      "metadata": {
        "colab": {
          "base_uri": "https://localhost:8080/"
        },
        "id": "UqihZRfXkTTZ",
        "outputId": "5b5b0961-3b78-4a90-b873-a24aaa7c807c"
      },
      "execution_count": 66,
      "outputs": [
        {
          "output_type": "execute_result",
          "data": {
            "text/plain": [
              "0.12640382"
            ]
          },
          "metadata": {},
          "execution_count": 66
        }
      ]
    },
    {
      "cell_type": "code",
      "source": [
        "# Find odd word out\n",
        "model.wv.doesnt_match(['ministr', 'prezident', 'Praha', 'premiér'])"
      ],
      "metadata": {
        "colab": {
          "base_uri": "https://localhost:8080/",
          "height": 35
        },
        "id": "hlV_rhLRkO5p",
        "outputId": "45511f4e-9935-420c-e12f-a4095b0429da"
      },
      "execution_count": 70,
      "outputs": [
        {
          "output_type": "execute_result",
          "data": {
            "text/plain": [
              "'Praha'"
            ],
            "application/vnd.google.colaboratory.intrinsic+json": {
              "type": "string"
            }
          },
          "metadata": {},
          "execution_count": 70
        }
      ]
    },
    {
      "cell_type": "code",
      "source": [
        "# Word analogies (a is to b as c is to ?)\n",
        "model.wv.most_similar(positive=['levice', 'obchod'], negative=['pravice'], topn=5)\n",
        "# nefunguje moc, nebo to neumim"
      ],
      "metadata": {
        "id": "MfU69y3B6kfI"
      },
      "execution_count": null,
      "outputs": []
    },
    {
      "cell_type": "markdown",
      "source": [
        "# T SNE downprojection"
      ],
      "metadata": {
        "id": "tYQyUrP2rJZj"
      }
    },
    {
      "cell_type": "code",
      "source": [
        "!pip install adjustText"
      ],
      "metadata": {
        "id": "E2LPZxY0kyIF"
      },
      "execution_count": null,
      "outputs": []
    },
    {
      "cell_type": "code",
      "source": [
        "import numpy as np\n",
        "import matplotlib.pyplot as plt\n",
        "from sklearn.manifold import TSNE\n",
        "import matplotlib.cm as cm\n",
        "from adjustText import adjust_text\n",
        "\n",
        "def plot_tsne(model, words, perplexity=35, figsize=(12, 10), colormap='hsv', adjust=True):\n",
        "    \"\"\"\n",
        "    Create a t-SNE plot for the given words using their embeddings.\n",
        "\n",
        "    Parameters:\n",
        "    - model: FastText model\n",
        "    - words: list of words to visualize\n",
        "    - perplexity: t-SNE perplexity parameter\n",
        "    - figsize: figure size\n",
        "    - colormap: matplotlib colormap for points\n",
        "    - adjust: whether to use adjust_text to prevent label overlap\n",
        "    \"\"\"\n",
        "    # Get word vectors\n",
        "    word_vectors = np.array([model.wv[word] for word in words])\n",
        "\n",
        "    # Perform t-SNE dimensionality reduction\n",
        "    tsne = TSNE(n_components=2, random_state=42, perplexity=perplexity)\n",
        "    coordinates = tsne.fit_transform(word_vectors)\n",
        "\n",
        "    # Create a scatter plot\n",
        "    plt.figure(figsize=figsize)\n",
        "\n",
        "    # Use different colors for points\n",
        "    colors = cm.get_cmap(colormap, len(words))\n",
        "\n",
        "    x = coordinates[:, 0]\n",
        "    y = coordinates[:, 1]\n",
        "\n",
        "    plt.scatter(x, y, c=range(len(words)), cmap=colors, alpha=0.7, s=100)\n",
        "\n",
        "    # Add labels for each point\n",
        "    texts = []\n",
        "    for i, word in enumerate(words):\n",
        "        texts.append(plt.text(x[i], y[i], word, fontsize=12))\n",
        "\n",
        "    if adjust:\n",
        "        # Adjust text positions to prevent overlap\n",
        "        adjust_text(texts, arrowprops=dict(arrowstyle='->', color='black'))\n",
        "\n",
        "    plt.title('t-SNE Visualization of Word Embeddings', fontsize=14)\n",
        "    plt.grid(True, linestyle='--', alpha=0.5)\n",
        "    plt.tight_layout()\n",
        "    plt.savefig('word_embeddings_tsne.png', dpi=300, bbox_inches='tight')\n",
        "    plt.show()\n",
        "\n",
        "# Example usage:\n",
        "# 1. Political terms\n",
        "political_terms = ['vláda', 'parlament', 'strana', 'volby', 'demokracie', 'ústava',\n",
        "                  'premiér', 'prezident', 'ministr', 'opozice', 'koalice', 'poslanec',\n",
        "                  'senátor', 'zákon', 'politika', 'justice', 'soud', 'ekonomika', 'inflace', 'rozpočet', 'daň', 'HDP', 'krize',\n",
        "                 'reforma', 'nezaměstnanost', 'mzda', 'dotace', 'investice', 'dluh',\n",
        "                 'deficit', 'banky', 'úrok', 'export', 'průmysl','levice', 'pravice', 'socialismus', 'kapitalismus', 'konzervativní',\n",
        "                     'liberální', 'komunistický', 'progresivní', 'sociální', 'solidarita',\n",
        "                     'svoboda', 'rovnost', 'trh', 'stát', 'soukromý', 'veřejný']\n",
        "\n",
        "# Run the visualization\n",
        "plot_tsne(model, political_terms)\n",
        "# Compare left/right political terms\n",
        "political_spectrum = ['levice', 'pravice', 'socialismus', 'kapitalismus', 'konzervativní',\n",
        "                     'liberální', 'komunistický', 'progresivní', 'sociální', 'solidarita',\n",
        "                     'svoboda', 'rovnost', 'trh', 'stát', 'soukromý', 'veřejný']\n",
        "plot_tsne(model, political_spectrum, perplexity=5)  # Lower perplexity for smaller set"
      ],
      "metadata": {
        "colab": {
          "base_uri": "https://localhost:8080/",
          "height": 1000
        },
        "id": "xpHCw3coiNJY",
        "outputId": "a9616b4f-8851-4eb2-814a-380946fc4c27"
      },
      "execution_count": 75,
      "outputs": [
        {
          "output_type": "stream",
          "name": "stderr",
          "text": [
            "<ipython-input-75-0d73074b10df>:30: MatplotlibDeprecationWarning: The get_cmap function was deprecated in Matplotlib 3.7 and will be removed in 3.11. Use ``matplotlib.colormaps[name]`` or ``matplotlib.colormaps.get_cmap()`` or ``pyplot.get_cmap()`` instead.\n",
            "  colors = cm.get_cmap(colormap, len(words))\n"
          ]
        },
        {
          "output_type": "display_data",
          "data": {
            "text/plain": [
              "<Figure size 1200x1000 with 1 Axes>"
            ],
            "image/png": "[encoded data removed]"
          },
          "metadata": {}
        },
        {
          "output_type": "stream",
          "name": "stderr",
          "text": [
            "<ipython-input-75-0d73074b10df>:30: MatplotlibDeprecationWarning: The get_cmap function was deprecated in Matplotlib 3.7 and will be removed in 3.11. Use ``matplotlib.colormaps[name]`` or ``matplotlib.colormaps.get_cmap()`` or ``pyplot.get_cmap()`` instead.\n",
            "  colors = cm.get_cmap(colormap, len(words))\n"
          ]
        },
        {
          "output_type": "display_data",
          "data": {
            "text/plain": [
              "<Figure size 1200x1000 with 1 Axes>"
            ],
            "image/png": "[encoded data removed]"
          },
          "metadata": {}
        }
      ]
    },
    {
      "cell_type": "markdown",
      "source": [
        "# Position in space between two vectors"
      ],
      "metadata": {
        "id": "NAy9NAFVrNud"
      }
    },
    {
      "cell_type": "code",
      "source": [
        "def get_left_right_position(model, left_terms, right_terms, target_word):\n",
        "    \"\"\"Get position of a word on left-right axis\"\"\"\n",
        "    # Average left and right seed vectors\n",
        "    left_vec = np.mean([model.wv[w] for w in left_terms if w in model.wv], axis=0)\n",
        "    right_vec = np.mean([model.wv[w] for w in right_terms if w in model.wv], axis=0)\n",
        "\n",
        "    # Create left-right axis\n",
        "    lr_axis = right_vec - left_vec\n",
        "    lr_axis = lr_axis / np.linalg.norm(lr_axis)  # Normalize\n",
        "\n",
        "    # Project target word onto this axis\n",
        "    if target_word in model.wv:\n",
        "        position = np.dot(model.wv[target_word], lr_axis)\n",
        "        return position\n",
        "    else:\n",
        "        return None\n",
        "# Define seed words\n",
        "left_terms = ['levice', \"levicový\", \"levicová\"]\n",
        "right_terms = ['pravice', \"pravicový\", \"pravicová\"]\n",
        "\n",
        "# Get position of \"inflace\" (inflation)\n",
        "position = get_left_right_position(model, left_terms, right_terms, 'svoboda')\n",
        "print(f\"Position of 'inflace' on left-right axis: {position}\")\n",
        "# Positive means right-leaning, negative means left-leaning"
      ],
      "metadata": {
        "colab": {
          "base_uri": "https://localhost:8080/"
        },
        "id": "pN7seb4sohZL",
        "outputId": "630fa2c2-84b7-45ec-e823-1640c667b5b9"
      },
      "execution_count": 72,
      "outputs": [
        {
          "output_type": "stream",
          "name": "stdout",
          "text": [
            "Position of 'inflace' on left-right axis: -0.11505492776632309\n"
          ]
        }
      ]
    },
    {
      "cell_type": "code",
      "source": [
        "word_vectors = model.wv\n",
        "word_vectors.save(\"fasttext_wordvectors_right\") # Store just the words + their trained embeddings.\n",
        "\n",
        "# Load back with memory-mapping = read-only, shared across processes.\n",
        "wv = KeyedVectors.load(\"fasttext_wordvectors_right\", mmap='r')\n",
        "vector = wv['prezident']  # Get numpy vector of a word\n",
        "wv.most_similar('prezident', topn=20)"
      ],
      "metadata": {
        "id": "Imco_9mMqh3E"
      },
      "execution_count": null,
      "outputs": []
    }
  ]
}