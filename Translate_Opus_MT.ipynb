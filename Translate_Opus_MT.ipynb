{
  "nbformat": 4,
  "nbformat_minor": 0,
  "metadata": {
    "colab": {
      "provenance": [],
      "authorship_tag": "ABX9TyOT/4tg9ybu40IUmN5ENAUk",
      "include_colab_link": true
    },
    "kernelspec": {
      "name": "python3",
      "display_name": "Python 3"
    },
    "language_info": {
      "name": "python"
    }
  },
  "cells": [
    {
      "cell_type": "markdown",
      "metadata": {
        "id": "view-in-github",
        "colab_type": "text"
      },
      "source": [
        "<a href=\"https://colab.research.google.com/github/stepanjaburek/workingpaper_czech_psp_speeches/blob/main/Translate_Opus_MT.ipynb\" target=\"_parent\"><img src=\"https://colab.research.google.com/assets/colab-badge.svg\" alt=\"Open In Colab\"/></a>"
      ]
    },
    {
      "cell_type": "code",
      "execution_count": null,
      "metadata": {
        "id": "6VLiBuvhec8A"
      },
      "outputs": [],
      "source": [
        "!pip install transformers sentencepiece sacremoses torch tqdm\n",
        "\n",
        "import pandas as pd\n",
        "from transformers import MarianMTModel, MarianTokenizer\n",
        "from tqdm.notebook import tqdm\n",
        "import torch"
      ]
    },
    {
      "cell_type": "code",
      "source": [
        "def translate_csv(file_path, source_lang='cs', target_lang='en', batch_size=8):\n",
        "    # Load data and model\n",
        "    df = pd.read_csv(file_path)\n",
        "    model_name = f'Helsinki-NLP/opus-mt-{source_lang}-{target_lang}'\n",
        "    tokenizer = MarianTokenizer.from_pretrained(model_name)\n",
        "    model = MarianMTModel.from_pretrained(model_name).to('cuda' if torch.cuda.is_available() else 'cpu')\n",
        "\n",
        "    def translate_batch(texts):\n",
        "        inputs = tokenizer(texts, return_tensors=\"pt\", padding=True, truncation=True, max_length=512)\n",
        "        inputs = {k: v.to(model.device) for k, v in inputs.items()}\n",
        "        with torch.no_grad():\n",
        "            return tokenizer.batch_decode(model.generate(**inputs), skip_special_tokens=True)\n",
        "\n",
        "    # Translate in batches\n",
        "    translations = []\n",
        "    for i in tqdm(range(0, len(df), batch_size)):\n",
        "        translations.extend(translate_batch(df['context_full'][i:i + batch_size].tolist()))\n",
        "\n",
        "    df['translated_text'] = translations\n",
        "    return df\n"
      ],
      "metadata": {
        "id": "SGRJX4T6efjS"
      },
      "execution_count": null,
      "outputs": []
    },
    {
      "cell_type": "code",
      "source": [
        "translated_df = translate_csv('/content/green.csv')\n",
        "translated_df.to_csv('translated_green.csv', index=False)"
      ],
      "metadata": {
        "id": "O5RMCKsReg8R"
      },
      "execution_count": null,
      "outputs": []
    }
  ]
}