{
  "nbformat": 4,
  "nbformat_minor": 0,
  "metadata": {
    "colab": {
      "provenance": [],
      "gpuType": "T4",
      "authorship_tag": "ABX9TyOTsacEtbN0INlxcNiurfi4",
      "include_colab_link": true
    },
    "kernelspec": {
      "name": "python3",
      "display_name": "Python 3"
    },
    "language_info": {
      "name": "python"
    },
    "accelerator": "GPU",
    "widgets": {
      "application/vnd.jupyter.widget-state+json": {
        "5db83492a2924f2f9d72e041612ea3c4": {
          "model_module": "@jupyter-widgets/controls",
          "model_name": "HBoxModel",
          "model_module_version": "1.5.0",
          "state": {
            "_dom_classes": [],
            "_model_module": "@jupyter-widgets/controls",
            "_model_module_version": "1.5.0",
            "_model_name": "HBoxModel",
            "_view_count": null,
            "_view_module": "@jupyter-widgets/controls",
            "_view_module_version": "1.5.0",
            "_view_name": "HBoxView",
            "box_style": "",
            "children": [
              "IPY_MODEL_71e6e5766579484f959d1760d90d0366",
              "IPY_MODEL_4f9a68c69e29491996a1335e0646195e",
              "IPY_MODEL_2ad9d557608b4ba19a788babb9e405e0"
            ],
            "layout": "IPY_MODEL_0f58e6b501494f77aeca3363d17d628b"
          }
        },
        "71e6e5766579484f959d1760d90d0366": {
          "model_module": "@jupyter-widgets/controls",
          "model_name": "HTMLModel",
          "model_module_version": "1.5.0",
          "state": {
            "_dom_classes": [],
            "_model_module": "@jupyter-widgets/controls",
            "_model_module_version": "1.5.0",
            "_model_name": "HTMLModel",
            "_view_count": null,
            "_view_module": "@jupyter-widgets/controls",
            "_view_module_version": "1.5.0",
            "_view_name": "HTMLView",
            "description": "",
            "description_tooltip": null,
            "layout": "IPY_MODEL_d3b9320ed3b24d999d1e6266eaead17c",
            "placeholder": "​",
            "style": "IPY_MODEL_d9d3bd80bd904ecf92f6aa5358ea40a9",
            "value": "100%"
          }
        },
        "4f9a68c69e29491996a1335e0646195e": {
          "model_module": "@jupyter-widgets/controls",
          "model_name": "FloatProgressModel",
          "model_module_version": "1.5.0",
          "state": {
            "_dom_classes": [],
            "_model_module": "@jupyter-widgets/controls",
            "_model_module_version": "1.5.0",
            "_model_name": "FloatProgressModel",
            "_view_count": null,
            "_view_module": "@jupyter-widgets/controls",
            "_view_module_version": "1.5.0",
            "_view_name": "ProgressView",
            "bar_style": "success",
            "description": "",
            "description_tooltip": null,
            "layout": "IPY_MODEL_a4c696c9dcf84a5bb695750c40a168b9",
            "max": 3,
            "min": 0,
            "orientation": "horizontal",
            "style": "IPY_MODEL_222bab2b69c94a0ca8eedb6cf086fdac",
            "value": 3
          }
        },
        "2ad9d557608b4ba19a788babb9e405e0": {
          "model_module": "@jupyter-widgets/controls",
          "model_name": "HTMLModel",
          "model_module_version": "1.5.0",
          "state": {
            "_dom_classes": [],
            "_model_module": "@jupyter-widgets/controls",
            "_model_module_version": "1.5.0",
            "_model_name": "HTMLModel",
            "_view_count": null,
            "_view_module": "@jupyter-widgets/controls",
            "_view_module_version": "1.5.0",
            "_view_name": "HTMLView",
            "description": "",
            "description_tooltip": null,
            "layout": "IPY_MODEL_fe4aea53824f4c5393bdb62e9b88e72c",
            "placeholder": "​",
            "style": "IPY_MODEL_495117356736445395bcefe0415b59cf",
            "value": " 3/3 [00:04&lt;00:00,  1.43s/it]"
          }
        },
        "0f58e6b501494f77aeca3363d17d628b": {
          "model_module": "@jupyter-widgets/base",
          "model_name": "LayoutModel",
          "model_module_version": "1.2.0",
          "state": {
            "_model_module": "@jupyter-widgets/base",
            "_model_module_version": "1.2.0",
            "_model_name": "LayoutModel",
            "_view_count": null,
            "_view_module": "@jupyter-widgets/base",
            "_view_module_version": "1.2.0",
            "_view_name": "LayoutView",
            "align_content": null,
            "align_items": null,
            "align_self": null,
            "border": null,
            "bottom": null,
            "display": null,
            "flex": null,
            "flex_flow": null,
            "grid_area": null,
            "grid_auto_columns": null,
            "grid_auto_flow": null,
            "grid_auto_rows": null,
            "grid_column": null,
            "grid_gap": null,
            "grid_row": null,
            "grid_template_areas": null,
            "grid_template_columns": null,
            "grid_template_rows": null,
            "height": null,
            "justify_content": null,
            "justify_items": null,
            "left": null,
            "margin": null,
            "max_height": null,
            "max_width": null,
            "min_height": null,
            "min_width": null,
            "object_fit": null,
            "object_position": null,
            "order": null,
            "overflow": null,
            "overflow_x": null,
            "overflow_y": null,
            "padding": null,
            "right": null,
            "top": null,
            "visibility": null,
            "width": null
          }
        },
        "d3b9320ed3b24d999d1e6266eaead17c": {
          "model_module": "@jupyter-widgets/base",
          "model_name": "LayoutModel",
          "model_module_version": "1.2.0",
          "state": {
            "_model_module": "@jupyter-widgets/base",
            "_model_module_version": "1.2.0",
            "_model_name": "LayoutModel",
            "_view_count": null,
            "_view_module": "@jupyter-widgets/base",
            "_view_module_version": "1.2.0",
            "_view_name": "LayoutView",
            "align_content": null,
            "align_items": null,
            "align_self": null,
            "border": null,
            "bottom": null,
            "display": null,
            "flex": null,
            "flex_flow": null,
            "grid_area": null,
            "grid_auto_columns": null,
            "grid_auto_flow": null,
            "grid_auto_rows": null,
            "grid_column": null,
            "grid_gap": null,
            "grid_row": null,
            "grid_template_areas": null,
            "grid_template_columns": null,
            "grid_template_rows": null,
            "height": null,
            "justify_content": null,
            "justify_items": null,
            "left": null,
            "margin": null,
            "max_height": null,
            "max_width": null,
            "min_height": null,
            "min_width": null,
            "object_fit": null,
            "object_position": null,
            "order": null,
            "overflow": null,
            "overflow_x": null,
            "overflow_y": null,
            "padding": null,
            "right": null,
            "top": null,
            "visibility": null,
            "width": null
          }
        },
        "d9d3bd80bd904ecf92f6aa5358ea40a9": {
          "model_module": "@jupyter-widgets/controls",
          "model_name": "DescriptionStyleModel",
          "model_module_version": "1.5.0",
          "state": {
            "_model_module": "@jupyter-widgets/controls",
            "_model_module_version": "1.5.0",
            "_model_name": "DescriptionStyleModel",
            "_view_count": null,
            "_view_module": "@jupyter-widgets/base",
            "_view_module_version": "1.2.0",
            "_view_name": "StyleView",
            "description_width": ""
          }
        },
        "a4c696c9dcf84a5bb695750c40a168b9": {
          "model_module": "@jupyter-widgets/base",
          "model_name": "LayoutModel",
          "model_module_version": "1.2.0",
          "state": {
            "_model_module": "@jupyter-widgets/base",
            "_model_module_version": "1.2.0",
            "_model_name": "LayoutModel",
            "_view_count": null,
            "_view_module": "@jupyter-widgets/base",
            "_view_module_version": "1.2.0",
            "_view_name": "LayoutView",
            "align_content": null,
            "align_items": null,
            "align_self": null,
            "border": null,
            "bottom": null,
            "display": null,
            "flex": null,
            "flex_flow": null,
            "grid_area": null,
            "grid_auto_columns": null,
            "grid_auto_flow": null,
            "grid_auto_rows": null,
            "grid_column": null,
            "grid_gap": null,
            "grid_row": null,
            "grid_template_areas": null,
            "grid_template_columns": null,
            "grid_template_rows": null,
            "height": null,
            "justify_content": null,
            "justify_items": null,
            "left": null,
            "margin": null,
            "max_height": null,
            "max_width": null,
            "min_height": null,
            "min_width": null,
            "object_fit": null,
            "object_position": null,
            "order": null,
            "overflow": null,
            "overflow_x": null,
            "overflow_y": null,
            "padding": null,
            "right": null,
            "top": null,
            "visibility": null,
            "width": null
          }
        },
        "222bab2b69c94a0ca8eedb6cf086fdac": {
          "model_module": "@jupyter-widgets/controls",
          "model_name": "ProgressStyleModel",
          "model_module_version": "1.5.0",
          "state": {
            "_model_module": "@jupyter-widgets/controls",
            "_model_module_version": "1.5.0",
            "_model_name": "ProgressStyleModel",
            "_view_count": null,
            "_view_module": "@jupyter-widgets/base",
            "_view_module_version": "1.2.0",
            "_view_name": "StyleView",
            "bar_color": null,
            "description_width": ""
          }
        },
        "fe4aea53824f4c5393bdb62e9b88e72c": {
          "model_module": "@jupyter-widgets/base",
          "model_name": "LayoutModel",
          "model_module_version": "1.2.0",
          "state": {
            "_model_module": "@jupyter-widgets/base",
            "_model_module_version": "1.2.0",
            "_model_name": "LayoutModel",
            "_view_count": null,
            "_view_module": "@jupyter-widgets/base",
            "_view_module_version": "1.2.0",
            "_view_name": "LayoutView",
            "align_content": null,
            "align_items": null,
            "align_self": null,
            "border": null,
            "bottom": null,
            "display": null,
            "flex": null,
            "flex_flow": null,
            "grid_area": null,
            "grid_auto_columns": null,
            "grid_auto_flow": null,
            "grid_auto_rows": null,
            "grid_column": null,
            "grid_gap": null,
            "grid_row": null,
            "grid_template_areas": null,
            "grid_template_columns": null,
            "grid_template_rows": null,
            "height": null,
            "justify_content": null,
            "justify_items": null,
            "left": null,
            "margin": null,
            "max_height": null,
            "max_width": null,
            "min_height": null,
            "min_width": null,
            "object_fit": null,
            "object_position": null,
            "order": null,
            "overflow": null,
            "overflow_x": null,
            "overflow_y": null,
            "padding": null,
            "right": null,
            "top": null,
            "visibility": null,
            "width": null
          }
        },
        "495117356736445395bcefe0415b59cf": {
          "model_module": "@jupyter-widgets/controls",
          "model_name": "DescriptionStyleModel",
          "model_module_version": "1.5.0",
          "state": {
            "_model_module": "@jupyter-widgets/controls",
            "_model_module_version": "1.5.0",
            "_model_name": "DescriptionStyleModel",
            "_view_count": null,
            "_view_module": "@jupyter-widgets/base",
            "_view_module_version": "1.2.0",
            "_view_name": "StyleView",
            "description_width": ""
          }
        }
      }
    }
  },
  "cells": [
    {
      "cell_type": "markdown",
      "metadata": {
        "id": "view-in-github",
        "colab_type": "text"
      },
      "source": [
        "<a href=\"https://colab.research.google.com/github/stepanjaburek/workingpaper_czech_psp_speeches/blob/main/Sentiment(PolDEBATE).ipynb\" target=\"_parent\"><img src=\"https://colab.research.google.com/assets/colab-badge.svg\" alt=\"Open In Colab\"/></a>"
      ]
    },
    {
      "cell_type": "markdown",
      "source": [
        "# **Sentiment classification using the Poltical DEBATE model by Burnham et al. (2024)**"
      ],
      "metadata": {
        "id": "HM3nH81NnyIs"
      }
    },
    {
      "cell_type": "markdown",
      "source": [
        "# Setup"
      ],
      "metadata": {
        "id": "avaG5JyxnzVU"
      }
    },
    {
      "cell_type": "code",
      "execution_count": null,
      "metadata": {
        "id": "NfdJmargew5l"
      },
      "outputs": [],
      "source": [
        "#!pip install scikit-learn\n",
        "!pip install krippendorff\n",
        "import pandas as pd\n",
        "import numpy as np\n",
        "import sklearn\n",
        "import krippendorff\n",
        "import torch\n",
        "from transformers import pipeline\n",
        "from tqdm.notebook import tqdm\n",
        "from sklearn.metrics import confusion_matrix, ConfusionMatrixDisplay\n",
        "from sklearn.metrics import f1_score\n",
        "from sklearn.metrics import matthews_corrcoef"
      ]
    },
    {
      "cell_type": "markdown",
      "source": [
        "# Model specification and analysis"
      ],
      "metadata": {
        "id": "9wrTiSSLpAff"
      }
    },
    {
      "cell_type": "code",
      "source": [
        "model_name = \"mlburnham/Political_DEBATE_large_v1.0\"\n",
        "hypothesis_template =  \"The emotional valence of this text towards left-wing politics, socialism, communism is {}\"\n",
        "classes = [\"positive\", \"neutral\", \"negative\"]\n",
        "\n",
        "device = 0 if torch.cuda.is_available() else -1\n",
        "classifier = pipeline(\"zero-shot-classification\",\n",
        "                     model=model_name,\n",
        "                     device=device)"
      ],
      "metadata": {
        "id": "HJD6yxz6e0kO"
      },
      "execution_count": 38,
      "outputs": []
    },
    {
      "cell_type": "code",
      "source": [
        "def analyze_sentiments(df, classifier, classes, hypothesis, batch_size=16):\n",
        "    results = []\n",
        "    for i in tqdm(range(0, len(df), batch_size)):\n",
        "        batch_output = classifier(\n",
        "            df['translated_context_40'][i:i + batch_size].tolist(),\n",
        "            classes,\n",
        "            hypothesis_template=hypothesis,\n",
        "            multi_label=False,\n",
        "            batch_size=batch_size\n",
        "        )\n",
        "\n",
        "        for item in batch_output:\n",
        "            results.append({\n",
        "                'label': item['labels'][0],\n",
        "                'score': item['scores'][0],\n",
        "                **{f'{label}_score': score for label, score in zip(item['labels'], item['scores'])}\n",
        "            })\n",
        "\n",
        "    return pd.DataFrame(results)"
      ],
      "metadata": {
        "id": "AX6F8Gx9e2UV"
      },
      "execution_count": 39,
      "outputs": []
    },
    {
      "cell_type": "code",
      "source": [
        "#df = pd.read_csv(\"/content/translated_left.csv\")\n",
        "df = pd.read_excel('/content/Book1 (1).xlsx')\n",
        "results = analyze_sentiments(df, classifier, classes, hypothesis_template)\n",
        "\n",
        "pd.concat([df, results], axis=1).to_csv('debate_sentiment_left.csv', index=False)\n",
        "\n",
        "print(\"\\nSentiment Distribution:\")\n",
        "print(results['label'].value_counts())"
      ],
      "metadata": {
        "colab": {
          "base_uri": "https://localhost:8080/",
          "height": 153,
          "referenced_widgets": [
            "5db83492a2924f2f9d72e041612ea3c4",
            "71e6e5766579484f959d1760d90d0366",
            "4f9a68c69e29491996a1335e0646195e",
            "2ad9d557608b4ba19a788babb9e405e0",
            "0f58e6b501494f77aeca3363d17d628b",
            "d3b9320ed3b24d999d1e6266eaead17c",
            "d9d3bd80bd904ecf92f6aa5358ea40a9",
            "a4c696c9dcf84a5bb695750c40a168b9",
            "222bab2b69c94a0ca8eedb6cf086fdac",
            "fe4aea53824f4c5393bdb62e9b88e72c",
            "495117356736445395bcefe0415b59cf"
          ]
        },
        "id": "V_Vz0FRinpM3",
        "outputId": "0ee28c1a-92c7-4282-d72c-904297bd6325"
      },
      "execution_count": 40,
      "outputs": [
        {
          "output_type": "display_data",
          "data": {
            "text/plain": [
              "  0%|          | 0/3 [00:00<?, ?it/s]"
            ],
            "application/vnd.jupyter.widget-view+json": {
              "version_major": 2,
              "version_minor": 0,
              "model_id": "5db83492a2924f2f9d72e041612ea3c4"
            }
          },
          "metadata": {}
        },
        {
          "output_type": "stream",
          "name": "stdout",
          "text": [
            "\n",
            "Sentiment Distribution:\n",
            "label\n",
            "negative    24\n",
            "neutral     20\n",
            "Name: count, dtype: int64\n"
          ]
        }
      ]
    },
    {
      "cell_type": "code",
      "source": [
        "df = pd.read_csv(\"/content/debate_sentiment_left.csv\")\n",
        "df\n",
        "sklearn.metrics.precision_score(df[['label_my']], df[['label']],average='macro')\n",
        "df['agreement']= np.where(df['label_my']==df['label'], 1, 0)\n",
        "df['agreement'].mean()\n"
      ],
      "metadata": {
        "colab": {
          "base_uri": "https://localhost:8080/"
        },
        "id": "biDQgPh_oAxs",
        "outputId": "92e83228-09b4-4890-bba7-d8093d05056e"
      },
      "execution_count": 41,
      "outputs": [
        {
          "output_type": "stream",
          "name": "stderr",
          "text": [
            "/usr/local/lib/python3.10/dist-packages/sklearn/metrics/_classification.py:1531: UndefinedMetricWarning: Precision is ill-defined and being set to 0.0 in labels with no predicted samples. Use `zero_division` parameter to control this behavior.\n",
            "  _warn_prf(average, modifier, f\"{metric.capitalize()} is\", len(result))\n"
          ]
        },
        {
          "output_type": "execute_result",
          "data": {
            "text/plain": [
              "0.75"
            ]
          },
          "metadata": {},
          "execution_count": 41
        }
      ]
    },
    {
      "cell_type": "markdown",
      "source": [
        "# *Confusion Matrix*"
      ],
      "metadata": {
        "id": "ZfHurxIeok4l"
      }
    },
    {
      "cell_type": "code",
      "source": [
        "cm=confusion_matrix(df[['label_my']],df[['label']],labels=['negative','neutral', 'positive' ]) # True label is in the first position\n",
        "cm\n",
        "disp = ConfusionMatrixDisplay(confusion_matrix=cm,display_labels=['negative','neutral', 'positive'])\n",
        "disp.plot()"
      ],
      "metadata": {
        "colab": {
          "base_uri": "https://localhost:8080/",
          "height": 466
        },
        "id": "NOVPuSotoR4t",
        "outputId": "a283a1bd-0be5-4307-c36d-2cdd3b82af66"
      },
      "execution_count": 42,
      "outputs": [
        {
          "output_type": "execute_result",
          "data": {
            "text/plain": [
              "<sklearn.metrics._plot.confusion_matrix.ConfusionMatrixDisplay at 0x793cd06ccee0>"
            ]
          },
          "metadata": {},
          "execution_count": 42
        },
        {
          "output_type": "display_data",
          "data": {
            "text/plain": [
              "<Figure size 640x480 with 2 Axes>"
            ],
            "image/png": "[encoded data removed]"
          },
          "metadata": {}
        }
      ]
    },
    {
      "cell_type": "markdown",
      "source": [
        "# *F1 Score*"
      ],
      "metadata": {
        "id": "GpwuxlZEotDF"
      }
    },
    {
      "cell_type": "code",
      "source": [
        "actual = df['label_my']\n",
        "predicted = df['label']\n",
        "\n",
        "#f1_macro = f1_score(actual, predicted, average='macro')\n",
        "f1_weighted = f1_score(actual, predicted, average='weighted')\n",
        "\n",
        "#print(f\"F1 Macro: {f1_macro:.3f}\")\n",
        "print(f\"F1 Weighted: {f1_weighted:.3f}\")"
      ],
      "metadata": {
        "colab": {
          "base_uri": "https://localhost:8080/"
        },
        "id": "4HYG7IHaoUvE",
        "outputId": "db9c2dd4-6065-4283-8b3a-9af0e40b321e"
      },
      "execution_count": 43,
      "outputs": [
        {
          "output_type": "stream",
          "name": "stdout",
          "text": [
            "F1 Weighted: 0.743\n"
          ]
        }
      ]
    },
    {
      "cell_type": "markdown",
      "source": [
        "# *MCC*"
      ],
      "metadata": {
        "id": "n5dcWjQhoxxt"
      }
    },
    {
      "cell_type": "code",
      "source": [
        "mcc = matthews_corrcoef(actual, predicted)\n",
        "print(f\"MCC Score: {mcc:.3f}\")"
      ],
      "metadata": {
        "colab": {
          "base_uri": "https://localhost:8080/"
        },
        "id": "9r6igfHSoxhf",
        "outputId": "9607d408-df2c-4610-a07a-07ee7d3b612b"
      },
      "execution_count": 44,
      "outputs": [
        {
          "output_type": "stream",
          "name": "stdout",
          "text": [
            "MCC Score: 0.527\n"
          ]
        }
      ]
    }
  ]
}