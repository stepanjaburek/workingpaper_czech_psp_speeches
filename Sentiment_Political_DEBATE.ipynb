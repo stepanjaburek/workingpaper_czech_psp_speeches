{
  "nbformat": 4,
  "nbformat_minor": 0,
  "metadata": {
    "colab": {
      "provenance": [],
      "gpuType": "T4",
      "authorship_tag": "ABX9TyOTsacEtbN0INlxcNiurfi4",
      "include_colab_link": true
    },
    "kernelspec": {
      "name": "python3",
      "display_name": "Python 3"
    },
    "language_info": {
      "name": "python"
    },
    "accelerator": "GPU"
  },
  "cells": [
    {
      "cell_type": "markdown",
      "metadata": {
        "id": "view-in-github",
        "colab_type": "text"
      },
      "source": [
        "<a href=\"https://colab.research.google.com/github/stepanjaburek/workingpaper_czech_psp_speeches/blob/main/Sentiment_Political_DEBATE.ipynb\" target=\"_parent\"><img src=\"https://colab.research.google.com/assets/colab-badge.svg\" alt=\"Open In Colab\"/></a>"
      ]
    },
    {
      "cell_type": "markdown",
      "source": [
        "# **Sentiment classification using the Political DEBATE model by Burnham et al. (2024)**"
      ],
      "metadata": {
        "id": "HM3nH81NnyIs"
      }
    },
    {
      "cell_type": "markdown",
      "source": [
        "# Setup"
      ],
      "metadata": {
        "id": "avaG5JyxnzVU"
      }
    },
    {
      "cell_type": "code",
      "execution_count": null,
      "metadata": {
        "id": "NfdJmargew5l"
      },
      "outputs": [],
      "source": [
        "#!pip install scikit-learn\n",
        "!pip install krippendorff\n",
        "import pandas as pd\n",
        "import numpy as np\n",
        "import sklearn\n",
        "import krippendorff\n",
        "import torch\n",
        "from transformers import pipeline\n",
        "from tqdm.notebook import tqdm\n",
        "from sklearn.metrics import confusion_matrix, ConfusionMatrixDisplay\n",
        "from sklearn.metrics import f1_score\n",
        "from sklearn.metrics import matthews_corrcoef"
      ]
    },
    {
      "cell_type": "markdown",
      "source": [
        "# Model specification and analysis"
      ],
      "metadata": {
        "id": "9wrTiSSLpAff"
      }
    },
    {
      "cell_type": "code",
      "source": [
        "model_name = \"mlburnham/Political_DEBATE_large_v1.0\"\n",
        "hypothesis_template =  \"The emotional valence of this text towards left-wing politics, socialism, communism is {}\"\n",
        "classes = [\"positive\", \"neutral\", \"negative\"]\n",
        "\n",
        "device = 0 if torch.cuda.is_available() else -1\n",
        "classifier = pipeline(\"zero-shot-classification\",\n",
        "                     model=model_name,\n",
        "                     device=device)"
      ],
      "metadata": {
        "id": "HJD6yxz6e0kO"
      },
      "execution_count": 38,
      "outputs": []
    },
    {
      "cell_type": "code",
      "source": [
        "def analyze_sentiments(df, classifier, classes, hypothesis, batch_size=16):\n",
        "    results = []\n",
        "    for i in tqdm(range(0, len(df), batch_size)):\n",
        "        batch_output = classifier(\n",
        "            df['translated_context_40'][i:i + batch_size].tolist(),\n",
        "            classes,\n",
        "            hypothesis_template=hypothesis,\n",
        "            multi_label=False,\n",
        "            batch_size=batch_size\n",
        "        )\n",
        "\n",
        "        for item in batch_output:\n",
        "            results.append({\n",
        "                'label': item['labels'][0],\n",
        "                'score': item['scores'][0],\n",
        "                **{f'{label}_score': score for label, score in zip(item['labels'], item['scores'])}\n",
        "            })\n",
        "\n",
        "    return pd.DataFrame(results)"
      ],
      "metadata": {
        "id": "AX6F8Gx9e2UV"
      },
      "execution_count": 39,
      "outputs": []
    },
    {
      "cell_type": "code",
      "source": [
        "#df = pd.read_csv(\"/content/translated_left.csv\")\n",
        "df = pd.read_excel('/content/Book1 (1).xlsx')\n",
        "results = analyze_sentiments(df, classifier, classes, hypothesis_template)\n",
        "\n",
        "pd.concat([df, results], axis=1).to_csv('debate_sentiment_left.csv', index=False)\n",
        "\n",
        "print(\"\\nSentiment Distribution:\")\n",
        "print(results['label'].value_counts())"
      ],
      "metadata": {
        "id": "V_Vz0FRinpM3"
      },
      "execution_count": null,
      "outputs": []
    },
    {
      "cell_type": "code",
      "source": [
        "df = pd.read_csv(\"/content/debate_sentiment_left.csv\")\n",
        "df\n",
        "sklearn.metrics.precision_score(df[['label_my']], df[['label']],average='macro')\n",
        "df['agreement']= np.where(df['label_my']==df['label'], 1, 0)\n",
        "df['agreement'].mean()\n"
      ],
      "metadata": {
        "id": "biDQgPh_oAxs"
      },
      "execution_count": null,
      "outputs": []
    },
    {
      "cell_type": "markdown",
      "source": [
        "# *Confusion Matrix*"
      ],
      "metadata": {
        "id": "ZfHurxIeok4l"
      }
    },
    {
      "cell_type": "code",
      "source": [
        "cm=confusion_matrix(df[['label_my']],df[['label']],labels=['negative','neutral', 'positive' ]) # True label is in the first position\n",
        "cm\n",
        "disp = ConfusionMatrixDisplay(confusion_matrix=cm,display_labels=['negative','neutral', 'positive'])\n",
        "disp.plot()"
      ],
      "metadata": {
        "id": "NOVPuSotoR4t"
      },
      "execution_count": null,
      "outputs": []
    },
    {
      "cell_type": "markdown",
      "source": [
        "# *F1 Score*"
      ],
      "metadata": {
        "id": "GpwuxlZEotDF"
      }
    },
    {
      "cell_type": "code",
      "source": [
        "actual = df['label_my']\n",
        "predicted = df['label']\n",
        "\n",
        "#f1_macro = f1_score(actual, predicted, average='macro')\n",
        "f1_weighted = f1_score(actual, predicted, average='weighted')\n",
        "\n",
        "#print(f\"F1 Macro: {f1_macro:.3f}\")\n",
        "print(f\"F1 Weighted: {f1_weighted:.3f}\")"
      ],
      "metadata": {
        "id": "4HYG7IHaoUvE"
      },
      "execution_count": null,
      "outputs": []
    },
    {
      "cell_type": "markdown",
      "source": [
        "# *MCC*"
      ],
      "metadata": {
        "id": "n5dcWjQhoxxt"
      }
    },
    {
      "cell_type": "code",
      "source": [
        "mcc = matthews_corrcoef(actual, predicted)\n",
        "print(f\"MCC Score: {mcc:.3f}\")"
      ],
      "metadata": {
        "id": "9r6igfHSoxhf"
      },
      "execution_count": null,
      "outputs": []
    }
  ]
}
